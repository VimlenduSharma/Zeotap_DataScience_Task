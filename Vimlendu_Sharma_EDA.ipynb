{
 "cells": [
  {
   "cell_type": "markdown",
   "id": "17949878",
   "metadata": {},
   "source": [
    "# ECOMMERCE_TRANSACTIONS_EDA_AND_INSIGHTS"
   ]
  },
  {
   "cell_type": "markdown",
   "id": "95d848bd",
   "metadata": {},
   "source": [
    "#Import_Libraries"
   ]
  },
  {
   "cell_type": "code",
   "execution_count": 2,
   "id": "997a97b0",
   "metadata": {},
   "outputs": [],
   "source": [
    "import pandas as pd\n",
    "import numpy as np\n",
    "import matplotlib.pyplot as plt\n",
    "import seaborn as sns\n",
    "from datetime import datetime"
   ]
  },
  {
   "cell_type": "markdown",
   "id": "b0235a43",
   "metadata": {},
   "source": [
    "#Some_Visualisation_defaults"
   ]
  },
  {
   "cell_type": "code",
   "execution_count": 3,
   "id": "9e97a175",
   "metadata": {},
   "outputs": [],
   "source": [
    "sns.set(style=\"whitegrid\")\n",
    "plt.rcParams[\"figure.figsize\"] = (10, 6)"
   ]
  },
  {
   "cell_type": "markdown",
   "id": "2db40277",
   "metadata": {},
   "source": [
    "# Load_Data"
   ]
  },
  {
   "cell_type": "code",
   "execution_count": 4,
   "id": "660ef995",
   "metadata": {},
   "outputs": [],
   "source": [
    "customers_df = pd.read_csv('Customers.csv')\n",
    "products_df = pd.read_csv('Products.csv')\n",
    "transactions_df = pd.read_csv('Transactions.csv')"
   ]
  },
  {
   "cell_type": "markdown",
   "id": "fe8f153d",
   "metadata": {},
   "source": [
    "# Initial_Exploration_and_Data_Cleaning"
   ]
  },
  {
   "cell_type": "code",
   "execution_count": 5,
   "id": "12d57d7c",
   "metadata": {},
   "outputs": [
    {
     "name": "stdout",
     "output_type": "stream",
     "text": [
      "CUSTOMERS:\n",
      "  CustomerID        CustomerName         Region  SignupDate\n",
      "0      C0001    Lawrence Carroll  South America  2022-07-10\n",
      "1      C0002      Elizabeth Lutz           Asia  2022-02-13\n",
      "2      C0003      Michael Rivera  South America  2024-03-07\n",
      "3      C0004  Kathleen Rodriguez  South America  2022-10-09\n",
      "4      C0005         Laura Weber           Asia  2022-08-15 \n",
      "\n",
      "PRODUCTS:\n",
      "  ProductID              ProductName     Category   Price\n",
      "0      P001     ActiveWear Biography        Books  169.30\n",
      "1      P002    ActiveWear Smartwatch  Electronics  346.30\n",
      "2      P003  ComfortLiving Biography        Books   44.12\n",
      "3      P004            BookWorld Rug   Home Decor   95.69\n",
      "4      P005          TechPro T-Shirt     Clothing  429.31 \n",
      "\n",
      "TRANSACTIONS:\n",
      "  TransactionID CustomerID ProductID      TransactionDate  Quantity  \\\n",
      "0        T00001      C0199      P067  2024-08-25 12:38:23         1   \n",
      "1        T00112      C0146      P067  2024-05-27 22:23:54         1   \n",
      "2        T00166      C0127      P067  2024-04-25 07:38:55         1   \n",
      "3        T00272      C0087      P067  2024-03-26 22:55:37         2   \n",
      "4        T00363      C0070      P067  2024-03-21 15:10:10         3   \n",
      "\n",
      "   TotalValue   Price  \n",
      "0      300.68  300.68  \n",
      "1      300.68  300.68  \n",
      "2      300.68  300.68  \n",
      "3      601.36  300.68  \n",
      "4      902.04  300.68   \n",
      "\n"
     ]
    }
   ],
   "source": [
    "print(\"CUSTOMERS:\")\n",
    "print(customers_df.head(), \"\\n\")\n",
    "print(\"PRODUCTS:\")\n",
    "print(products_df.head(), \"\\n\")\n",
    "print(\"TRANSACTIONS:\")\n",
    "print(transactions_df.head(), \"\\n\")"
   ]
  },
  {
   "cell_type": "markdown",
   "id": "234b770d",
   "metadata": {},
   "source": [
    "# Data_Shapes"
   ]
  },
  {
   "cell_type": "code",
   "execution_count": 6,
   "id": "77507c52",
   "metadata": {},
   "outputs": [
    {
     "name": "stdout",
     "output_type": "stream",
     "text": [
      "Shape of Customers: (200, 4)\n",
      "Shape of Products : (100, 4)\n",
      "Shape of Transactions: (1000, 7)\n"
     ]
    }
   ],
   "source": [
    "print(\"Shape of Customers:\", customers_df.shape)\n",
    "print(\"Shape of Products :\", products_df.shape)\n",
    "print(\"Shape of Transactions:\", transactions_df.shape)"
   ]
  },
  {
   "cell_type": "markdown",
   "id": "fa4509fc",
   "metadata": {},
   "source": [
    "#check_for_missing_values"
   ]
  },
  {
   "cell_type": "code",
   "execution_count": 7,
   "id": "b1725331",
   "metadata": {},
   "outputs": [
    {
     "name": "stdout",
     "output_type": "stream",
     "text": [
      "\n",
      "Missing Values in Customers:\n",
      " CustomerID      0\n",
      "CustomerName    0\n",
      "Region          0\n",
      "SignupDate      0\n",
      "dtype: int64\n",
      "\n",
      "Missing Values in Products:\n",
      " ProductID      0\n",
      "ProductName    0\n",
      "Category       0\n",
      "Price          0\n",
      "dtype: int64\n",
      "\n",
      "Missing Values in Transactions:\n",
      " TransactionID      0\n",
      "CustomerID         0\n",
      "ProductID          0\n",
      "TransactionDate    0\n",
      "Quantity           0\n",
      "TotalValue         0\n",
      "Price              0\n",
      "dtype: int64\n"
     ]
    }
   ],
   "source": [
    "print(\"\\nMissing Values in Customers:\\n\", customers_df.isnull().sum())\n",
    "print(\"\\nMissing Values in Products:\\n\", products_df.isnull().sum())\n",
    "print(\"\\nMissing Values in Transactions:\\n\", transactions_df.isnull().sum())"
   ]
  },
  {
   "cell_type": "markdown",
   "id": "ea422f3f",
   "metadata": {},
   "source": [
    "#Conversion_of_DateColumns_to_DateTimes"
   ]
  },
  {
   "cell_type": "code",
   "execution_count": 8,
   "id": "f71e0164",
   "metadata": {},
   "outputs": [],
   "source": [
    "customers_df['SignupDate'] = pd.to_datetime(customers_df['SignupDate'], errors='coerce')\n",
    "transactions_df['TransactionDate'] = pd.to_datetime(transactions_df['TransactionDate'], errors='coerce')"
   ]
  },
  {
   "cell_type": "markdown",
   "id": "5fe5e370",
   "metadata": {},
   "source": [
    "#Check_Duplicates"
   ]
  },
  {
   "cell_type": "code",
   "execution_count": 9,
   "id": "16ad8651",
   "metadata": {},
   "outputs": [
    {
     "name": "stdout",
     "output_type": "stream",
     "text": [
      "\n",
      "Duplicate Rows in Customers: 0\n",
      "Duplicate Rows in Products: 0\n",
      "Duplicate Rows in Transactions: 0\n"
     ]
    }
   ],
   "source": [
    "print(\"\\nDuplicate Rows in Customers:\", customers_df.duplicated().sum())\n",
    "print(\"Duplicate Rows in Products:\", products_df.duplicated().sum())\n",
    "print(\"Duplicate Rows in Transactions:\", transactions_df.duplicated().sum())"
   ]
  },
  {
   "cell_type": "markdown",
   "id": "739c929e",
   "metadata": {},
   "source": [
    "#Data_Consistency_Check"
   ]
  },
  {
   "cell_type": "code",
   "execution_count": 10,
   "id": "56d99781",
   "metadata": {},
   "outputs": [
    {
     "name": "stdout",
     "output_type": "stream",
     "text": [
      "\n",
      "Invalid CustomerIDs in Transactions (not in Customers): set()\n"
     ]
    }
   ],
   "source": [
    "invalid_cust_ids = set(transactions_df['CustomerID']) - set(customers_df['CustomerID'])\n",
    "print(f\"\\nInvalid CustomerIDs in Transactions (not in Customers): {invalid_cust_ids}\")"
   ]
  },
  {
   "cell_type": "code",
   "execution_count": 11,
   "id": "435d277d",
   "metadata": {},
   "outputs": [
    {
     "name": "stdout",
     "output_type": "stream",
     "text": [
      "Invalid ProductIDs in Transactions (not in Products): set()\n"
     ]
    }
   ],
   "source": [
    "invalid_prod_ids = set(transactions_df['ProductID']) - set(products_df['ProductID'])\n",
    "print(f\"Invalid ProductIDs in Transactions (not in Products): {invalid_prod_ids}\")"
   ]
  },
  {
   "cell_type": "markdown",
   "id": "3c898fbf",
   "metadata": {},
   "source": [
    "# Merge_and_Prepare_Data_for_Analysis"
   ]
  },
  {
   "cell_type": "markdown",
   "id": "ab04a731",
   "metadata": {},
   "source": [
    "#Merge_transactions_with_customers"
   ]
  },
  {
   "cell_type": "code",
   "execution_count": 13,
   "id": "9e5dd5af",
   "metadata": {},
   "outputs": [],
   "source": [
    "trans_cust_df = pd.merge(\n",
    "    transactions_df, \n",
    "    customers_df[['CustomerID', 'Region']], \n",
    "    on='CustomerID', \n",
    "    how='left'\n",
    ")"
   ]
  },
  {
   "cell_type": "code",
   "execution_count": 14,
   "id": "d51b6fcc",
   "metadata": {},
   "outputs": [
    {
     "data": {
      "text/html": [
       "<div>\n",
       "<style scoped>\n",
       "    .dataframe tbody tr th:only-of-type {\n",
       "        vertical-align: middle;\n",
       "    }\n",
       "\n",
       "    .dataframe tbody tr th {\n",
       "        vertical-align: top;\n",
       "    }\n",
       "\n",
       "    .dataframe thead th {\n",
       "        text-align: right;\n",
       "    }\n",
       "</style>\n",
       "<table border=\"1\" class=\"dataframe\">\n",
       "  <thead>\n",
       "    <tr style=\"text-align: right;\">\n",
       "      <th></th>\n",
       "      <th>TransactionID</th>\n",
       "      <th>CustomerID</th>\n",
       "      <th>ProductID</th>\n",
       "      <th>TransactionDate</th>\n",
       "      <th>Quantity</th>\n",
       "      <th>TotalValue</th>\n",
       "      <th>Price</th>\n",
       "      <th>Region</th>\n",
       "    </tr>\n",
       "  </thead>\n",
       "  <tbody>\n",
       "    <tr>\n",
       "      <th>0</th>\n",
       "      <td>T00001</td>\n",
       "      <td>C0199</td>\n",
       "      <td>P067</td>\n",
       "      <td>2024-08-25 12:38:23</td>\n",
       "      <td>1</td>\n",
       "      <td>300.68</td>\n",
       "      <td>300.68</td>\n",
       "      <td>Europe</td>\n",
       "    </tr>\n",
       "    <tr>\n",
       "      <th>1</th>\n",
       "      <td>T00112</td>\n",
       "      <td>C0146</td>\n",
       "      <td>P067</td>\n",
       "      <td>2024-05-27 22:23:54</td>\n",
       "      <td>1</td>\n",
       "      <td>300.68</td>\n",
       "      <td>300.68</td>\n",
       "      <td>Asia</td>\n",
       "    </tr>\n",
       "    <tr>\n",
       "      <th>2</th>\n",
       "      <td>T00166</td>\n",
       "      <td>C0127</td>\n",
       "      <td>P067</td>\n",
       "      <td>2024-04-25 07:38:55</td>\n",
       "      <td>1</td>\n",
       "      <td>300.68</td>\n",
       "      <td>300.68</td>\n",
       "      <td>Europe</td>\n",
       "    </tr>\n",
       "    <tr>\n",
       "      <th>3</th>\n",
       "      <td>T00272</td>\n",
       "      <td>C0087</td>\n",
       "      <td>P067</td>\n",
       "      <td>2024-03-26 22:55:37</td>\n",
       "      <td>2</td>\n",
       "      <td>601.36</td>\n",
       "      <td>300.68</td>\n",
       "      <td>South America</td>\n",
       "    </tr>\n",
       "    <tr>\n",
       "      <th>4</th>\n",
       "      <td>T00363</td>\n",
       "      <td>C0070</td>\n",
       "      <td>P067</td>\n",
       "      <td>2024-03-21 15:10:10</td>\n",
       "      <td>3</td>\n",
       "      <td>902.04</td>\n",
       "      <td>300.68</td>\n",
       "      <td>Europe</td>\n",
       "    </tr>\n",
       "    <tr>\n",
       "      <th>...</th>\n",
       "      <td>...</td>\n",
       "      <td>...</td>\n",
       "      <td>...</td>\n",
       "      <td>...</td>\n",
       "      <td>...</td>\n",
       "      <td>...</td>\n",
       "      <td>...</td>\n",
       "      <td>...</td>\n",
       "    </tr>\n",
       "    <tr>\n",
       "      <th>995</th>\n",
       "      <td>T00496</td>\n",
       "      <td>C0118</td>\n",
       "      <td>P037</td>\n",
       "      <td>2024-10-24 08:30:27</td>\n",
       "      <td>1</td>\n",
       "      <td>459.86</td>\n",
       "      <td>459.86</td>\n",
       "      <td>South America</td>\n",
       "    </tr>\n",
       "    <tr>\n",
       "      <th>996</th>\n",
       "      <td>T00759</td>\n",
       "      <td>C0059</td>\n",
       "      <td>P037</td>\n",
       "      <td>2024-06-04 02:15:24</td>\n",
       "      <td>3</td>\n",
       "      <td>1379.58</td>\n",
       "      <td>459.86</td>\n",
       "      <td>North America</td>\n",
       "    </tr>\n",
       "    <tr>\n",
       "      <th>997</th>\n",
       "      <td>T00922</td>\n",
       "      <td>C0018</td>\n",
       "      <td>P037</td>\n",
       "      <td>2024-04-05 13:05:32</td>\n",
       "      <td>4</td>\n",
       "      <td>1839.44</td>\n",
       "      <td>459.86</td>\n",
       "      <td>North America</td>\n",
       "    </tr>\n",
       "    <tr>\n",
       "      <th>998</th>\n",
       "      <td>T00959</td>\n",
       "      <td>C0115</td>\n",
       "      <td>P037</td>\n",
       "      <td>2024-09-29 10:16:02</td>\n",
       "      <td>2</td>\n",
       "      <td>919.72</td>\n",
       "      <td>459.86</td>\n",
       "      <td>Asia</td>\n",
       "    </tr>\n",
       "    <tr>\n",
       "      <th>999</th>\n",
       "      <td>T00992</td>\n",
       "      <td>C0024</td>\n",
       "      <td>P037</td>\n",
       "      <td>2024-04-21 10:52:24</td>\n",
       "      <td>1</td>\n",
       "      <td>459.86</td>\n",
       "      <td>459.86</td>\n",
       "      <td>North America</td>\n",
       "    </tr>\n",
       "  </tbody>\n",
       "</table>\n",
       "<p>1000 rows × 8 columns</p>\n",
       "</div>"
      ],
      "text/plain": [
       "    TransactionID CustomerID ProductID     TransactionDate  Quantity  \\\n",
       "0          T00001      C0199      P067 2024-08-25 12:38:23         1   \n",
       "1          T00112      C0146      P067 2024-05-27 22:23:54         1   \n",
       "2          T00166      C0127      P067 2024-04-25 07:38:55         1   \n",
       "3          T00272      C0087      P067 2024-03-26 22:55:37         2   \n",
       "4          T00363      C0070      P067 2024-03-21 15:10:10         3   \n",
       "..            ...        ...       ...                 ...       ...   \n",
       "995        T00496      C0118      P037 2024-10-24 08:30:27         1   \n",
       "996        T00759      C0059      P037 2024-06-04 02:15:24         3   \n",
       "997        T00922      C0018      P037 2024-04-05 13:05:32         4   \n",
       "998        T00959      C0115      P037 2024-09-29 10:16:02         2   \n",
       "999        T00992      C0024      P037 2024-04-21 10:52:24         1   \n",
       "\n",
       "     TotalValue   Price         Region  \n",
       "0        300.68  300.68         Europe  \n",
       "1        300.68  300.68           Asia  \n",
       "2        300.68  300.68         Europe  \n",
       "3        601.36  300.68  South America  \n",
       "4        902.04  300.68         Europe  \n",
       "..          ...     ...            ...  \n",
       "995      459.86  459.86  South America  \n",
       "996     1379.58  459.86  North America  \n",
       "997     1839.44  459.86  North America  \n",
       "998      919.72  459.86           Asia  \n",
       "999      459.86  459.86  North America  \n",
       "\n",
       "[1000 rows x 8 columns]"
      ]
     },
     "execution_count": 14,
     "metadata": {},
     "output_type": "execute_result"
    }
   ],
   "source": [
    "trans_cust_df"
   ]
  },
  {
   "cell_type": "markdown",
   "id": "1be3314c",
   "metadata": {},
   "source": [
    "#now_merge_with_products"
   ]
  },
  {
   "cell_type": "code",
   "execution_count": 15,
   "id": "55d8d572",
   "metadata": {},
   "outputs": [],
   "source": [
    "full_df = pd.merge(\n",
    "    trans_cust_df,\n",
    "    products_df[['ProductID', 'Category']],\n",
    "    on='ProductID',\n",
    "    how='left'\n",
    ")"
   ]
  },
  {
   "cell_type": "code",
   "execution_count": 16,
   "id": "aabe39d8",
   "metadata": {},
   "outputs": [
    {
     "data": {
      "text/html": [
       "<div>\n",
       "<style scoped>\n",
       "    .dataframe tbody tr th:only-of-type {\n",
       "        vertical-align: middle;\n",
       "    }\n",
       "\n",
       "    .dataframe tbody tr th {\n",
       "        vertical-align: top;\n",
       "    }\n",
       "\n",
       "    .dataframe thead th {\n",
       "        text-align: right;\n",
       "    }\n",
       "</style>\n",
       "<table border=\"1\" class=\"dataframe\">\n",
       "  <thead>\n",
       "    <tr style=\"text-align: right;\">\n",
       "      <th></th>\n",
       "      <th>TransactionID</th>\n",
       "      <th>CustomerID</th>\n",
       "      <th>ProductID</th>\n",
       "      <th>TransactionDate</th>\n",
       "      <th>Quantity</th>\n",
       "      <th>TotalValue</th>\n",
       "      <th>Price</th>\n",
       "      <th>Region</th>\n",
       "      <th>Category</th>\n",
       "    </tr>\n",
       "  </thead>\n",
       "  <tbody>\n",
       "    <tr>\n",
       "      <th>0</th>\n",
       "      <td>T00001</td>\n",
       "      <td>C0199</td>\n",
       "      <td>P067</td>\n",
       "      <td>2024-08-25 12:38:23</td>\n",
       "      <td>1</td>\n",
       "      <td>300.68</td>\n",
       "      <td>300.68</td>\n",
       "      <td>Europe</td>\n",
       "      <td>Electronics</td>\n",
       "    </tr>\n",
       "    <tr>\n",
       "      <th>1</th>\n",
       "      <td>T00112</td>\n",
       "      <td>C0146</td>\n",
       "      <td>P067</td>\n",
       "      <td>2024-05-27 22:23:54</td>\n",
       "      <td>1</td>\n",
       "      <td>300.68</td>\n",
       "      <td>300.68</td>\n",
       "      <td>Asia</td>\n",
       "      <td>Electronics</td>\n",
       "    </tr>\n",
       "    <tr>\n",
       "      <th>2</th>\n",
       "      <td>T00166</td>\n",
       "      <td>C0127</td>\n",
       "      <td>P067</td>\n",
       "      <td>2024-04-25 07:38:55</td>\n",
       "      <td>1</td>\n",
       "      <td>300.68</td>\n",
       "      <td>300.68</td>\n",
       "      <td>Europe</td>\n",
       "      <td>Electronics</td>\n",
       "    </tr>\n",
       "    <tr>\n",
       "      <th>3</th>\n",
       "      <td>T00272</td>\n",
       "      <td>C0087</td>\n",
       "      <td>P067</td>\n",
       "      <td>2024-03-26 22:55:37</td>\n",
       "      <td>2</td>\n",
       "      <td>601.36</td>\n",
       "      <td>300.68</td>\n",
       "      <td>South America</td>\n",
       "      <td>Electronics</td>\n",
       "    </tr>\n",
       "    <tr>\n",
       "      <th>4</th>\n",
       "      <td>T00363</td>\n",
       "      <td>C0070</td>\n",
       "      <td>P067</td>\n",
       "      <td>2024-03-21 15:10:10</td>\n",
       "      <td>3</td>\n",
       "      <td>902.04</td>\n",
       "      <td>300.68</td>\n",
       "      <td>Europe</td>\n",
       "      <td>Electronics</td>\n",
       "    </tr>\n",
       "    <tr>\n",
       "      <th>...</th>\n",
       "      <td>...</td>\n",
       "      <td>...</td>\n",
       "      <td>...</td>\n",
       "      <td>...</td>\n",
       "      <td>...</td>\n",
       "      <td>...</td>\n",
       "      <td>...</td>\n",
       "      <td>...</td>\n",
       "      <td>...</td>\n",
       "    </tr>\n",
       "    <tr>\n",
       "      <th>995</th>\n",
       "      <td>T00496</td>\n",
       "      <td>C0118</td>\n",
       "      <td>P037</td>\n",
       "      <td>2024-10-24 08:30:27</td>\n",
       "      <td>1</td>\n",
       "      <td>459.86</td>\n",
       "      <td>459.86</td>\n",
       "      <td>South America</td>\n",
       "      <td>Electronics</td>\n",
       "    </tr>\n",
       "    <tr>\n",
       "      <th>996</th>\n",
       "      <td>T00759</td>\n",
       "      <td>C0059</td>\n",
       "      <td>P037</td>\n",
       "      <td>2024-06-04 02:15:24</td>\n",
       "      <td>3</td>\n",
       "      <td>1379.58</td>\n",
       "      <td>459.86</td>\n",
       "      <td>North America</td>\n",
       "      <td>Electronics</td>\n",
       "    </tr>\n",
       "    <tr>\n",
       "      <th>997</th>\n",
       "      <td>T00922</td>\n",
       "      <td>C0018</td>\n",
       "      <td>P037</td>\n",
       "      <td>2024-04-05 13:05:32</td>\n",
       "      <td>4</td>\n",
       "      <td>1839.44</td>\n",
       "      <td>459.86</td>\n",
       "      <td>North America</td>\n",
       "      <td>Electronics</td>\n",
       "    </tr>\n",
       "    <tr>\n",
       "      <th>998</th>\n",
       "      <td>T00959</td>\n",
       "      <td>C0115</td>\n",
       "      <td>P037</td>\n",
       "      <td>2024-09-29 10:16:02</td>\n",
       "      <td>2</td>\n",
       "      <td>919.72</td>\n",
       "      <td>459.86</td>\n",
       "      <td>Asia</td>\n",
       "      <td>Electronics</td>\n",
       "    </tr>\n",
       "    <tr>\n",
       "      <th>999</th>\n",
       "      <td>T00992</td>\n",
       "      <td>C0024</td>\n",
       "      <td>P037</td>\n",
       "      <td>2024-04-21 10:52:24</td>\n",
       "      <td>1</td>\n",
       "      <td>459.86</td>\n",
       "      <td>459.86</td>\n",
       "      <td>North America</td>\n",
       "      <td>Electronics</td>\n",
       "    </tr>\n",
       "  </tbody>\n",
       "</table>\n",
       "<p>1000 rows × 9 columns</p>\n",
       "</div>"
      ],
      "text/plain": [
       "    TransactionID CustomerID ProductID     TransactionDate  Quantity  \\\n",
       "0          T00001      C0199      P067 2024-08-25 12:38:23         1   \n",
       "1          T00112      C0146      P067 2024-05-27 22:23:54         1   \n",
       "2          T00166      C0127      P067 2024-04-25 07:38:55         1   \n",
       "3          T00272      C0087      P067 2024-03-26 22:55:37         2   \n",
       "4          T00363      C0070      P067 2024-03-21 15:10:10         3   \n",
       "..            ...        ...       ...                 ...       ...   \n",
       "995        T00496      C0118      P037 2024-10-24 08:30:27         1   \n",
       "996        T00759      C0059      P037 2024-06-04 02:15:24         3   \n",
       "997        T00922      C0018      P037 2024-04-05 13:05:32         4   \n",
       "998        T00959      C0115      P037 2024-09-29 10:16:02         2   \n",
       "999        T00992      C0024      P037 2024-04-21 10:52:24         1   \n",
       "\n",
       "     TotalValue   Price         Region     Category  \n",
       "0        300.68  300.68         Europe  Electronics  \n",
       "1        300.68  300.68           Asia  Electronics  \n",
       "2        300.68  300.68         Europe  Electronics  \n",
       "3        601.36  300.68  South America  Electronics  \n",
       "4        902.04  300.68         Europe  Electronics  \n",
       "..          ...     ...            ...          ...  \n",
       "995      459.86  459.86  South America  Electronics  \n",
       "996     1379.58  459.86  North America  Electronics  \n",
       "997     1839.44  459.86  North America  Electronics  \n",
       "998      919.72  459.86           Asia  Electronics  \n",
       "999      459.86  459.86  North America  Electronics  \n",
       "\n",
       "[1000 rows x 9 columns]"
      ]
     },
     "execution_count": 16,
     "metadata": {},
     "output_type": "execute_result"
    }
   ],
   "source": [
    "full_df"
   ]
  },
  {
   "cell_type": "code",
   "execution_count": 17,
   "id": "4b7eb231",
   "metadata": {},
   "outputs": [
    {
     "name": "stdout",
     "output_type": "stream",
     "text": [
      "\n",
      "Merged DataFrame (full_df) preview:\n",
      "  TransactionID CustomerID ProductID     TransactionDate  Quantity  \\\n",
      "0        T00001      C0199      P067 2024-08-25 12:38:23         1   \n",
      "1        T00112      C0146      P067 2024-05-27 22:23:54         1   \n",
      "2        T00166      C0127      P067 2024-04-25 07:38:55         1   \n",
      "3        T00272      C0087      P067 2024-03-26 22:55:37         2   \n",
      "4        T00363      C0070      P067 2024-03-21 15:10:10         3   \n",
      "\n",
      "   TotalValue   Price         Region     Category  \n",
      "0      300.68  300.68         Europe  Electronics  \n",
      "1      300.68  300.68           Asia  Electronics  \n",
      "2      300.68  300.68         Europe  Electronics  \n",
      "3      601.36  300.68  South America  Electronics  \n",
      "4      902.04  300.68         Europe  Electronics  \n"
     ]
    }
   ],
   "source": [
    "print(\"\\nMerged DataFrame (full_df) preview:\")\n",
    "print(full_df.head())"
   ]
  },
  {
   "cell_type": "markdown",
   "id": "f6122ce8",
   "metadata": {},
   "source": [
    "# Descriptive_Statistics"
   ]
  },
  {
   "cell_type": "markdown",
   "id": "d7a4a143",
   "metadata": {},
   "source": [
    "#Customer_Table_Statistics"
   ]
  },
  {
   "cell_type": "code",
   "execution_count": 18,
   "id": "ee997a45",
   "metadata": {},
   "outputs": [
    {
     "name": "stdout",
     "output_type": "stream",
     "text": [
      "\n",
      "Number of Customers by Region:\n",
      " Region\n",
      "South America    59\n",
      "Europe           50\n",
      "North America    46\n",
      "Asia             45\n",
      "Name: count, dtype: int64\n"
     ]
    }
   ],
   "source": [
    "region_counts = customers_df['Region'].value_counts()\n",
    "print(\"\\nNumber of Customers by Region:\\n\", region_counts)"
   ]
  },
  {
   "cell_type": "code",
   "execution_count": 19,
   "id": "68019945",
   "metadata": {},
   "outputs": [
    {
     "name": "stdout",
     "output_type": "stream",
     "text": [
      "\n",
      "Monthly Signup Trend (first 5 rows):\n",
      " SignupDate\n",
      "2022-01-31    1\n",
      "2022-02-28    7\n",
      "2022-03-31    8\n",
      "2022-04-30    8\n",
      "2022-05-31    8\n",
      "Freq: ME, dtype: int64\n"
     ]
    }
   ],
   "source": [
    "signup_trend = customers_df.resample('ME', on='SignupDate').size()\n",
    "print(\"\\nMonthly Signup Trend (first 5 rows):\\n\", signup_trend.head())"
   ]
  },
  {
   "cell_type": "code",
   "execution_count": 20,
   "id": "47845dd6",
   "metadata": {},
   "outputs": [
    {
     "name": "stdout",
     "output_type": "stream",
     "text": [
      "\n",
      "Product Price Stats:\n",
      " count    100.000000\n",
      "mean     267.551700\n",
      "std      143.219383\n",
      "min       16.080000\n",
      "25%      147.767500\n",
      "50%      292.875000\n",
      "75%      397.090000\n",
      "max      497.760000\n",
      "Name: Price, dtype: float64\n"
     ]
    }
   ],
   "source": [
    "price_stats = products_df['Price'].describe()\n",
    "print(\"\\nProduct Price Stats:\\n\", price_stats)"
   ]
  },
  {
   "cell_type": "code",
   "execution_count": 21,
   "id": "b2e3c739",
   "metadata": {},
   "outputs": [
    {
     "name": "stdout",
     "output_type": "stream",
     "text": [
      "\n",
      "Number of Products by Category:\n",
      " Category\n",
      "Books          26\n",
      "Electronics    26\n",
      "Clothing       25\n",
      "Home Decor     23\n",
      "Name: count, dtype: int64\n"
     ]
    }
   ],
   "source": [
    "category_counts = products_df['Category'].value_counts()\n",
    "print(\"\\nNumber of Products by Category:\\n\", category_counts)"
   ]
  },
  {
   "cell_type": "markdown",
   "id": "d59b223a",
   "metadata": {},
   "source": [
    "#Transaction_Table_Statistics"
   ]
  },
  {
   "cell_type": "code",
   "execution_count": 22,
   "id": "1bb9c423",
   "metadata": {},
   "outputs": [],
   "source": [
    "trans_quantity_stats = transactions_df['Quantity'].describe()\n",
    "trans_value_stats = transactions_df['TotalValue'].describe()"
   ]
  },
  {
   "cell_type": "code",
   "execution_count": 23,
   "id": "c00abc2d",
   "metadata": {},
   "outputs": [
    {
     "name": "stdout",
     "output_type": "stream",
     "text": [
      "\n",
      "Transaction Quantity Stats:\n",
      " count    1000.000000\n",
      "mean        2.537000\n",
      "std         1.117981\n",
      "min         1.000000\n",
      "25%         2.000000\n",
      "50%         3.000000\n",
      "75%         4.000000\n",
      "max         4.000000\n",
      "Name: Quantity, dtype: float64\n",
      "\n",
      "Transaction TotalValue Stats:\n",
      " count    1000.000000\n",
      "mean      689.995560\n",
      "std       493.144478\n",
      "min        16.080000\n",
      "25%       295.295000\n",
      "50%       588.880000\n",
      "75%      1011.660000\n",
      "max      1991.040000\n",
      "Name: TotalValue, dtype: float64\n"
     ]
    }
   ],
   "source": [
    "print(\"\\nTransaction Quantity Stats:\\n\", trans_quantity_stats)\n",
    "print(\"\\nTransaction TotalValue Stats:\\n\", trans_value_stats)"
   ]
  },
  {
   "cell_type": "code",
   "execution_count": 24,
   "id": "d9dc243b",
   "metadata": {},
   "outputs": [],
   "source": [
    "transactions_df['computed_value'] = transactions_df['Price'] * transactions_df['Quantity']\n",
    "transactions_df['value_difference'] = transactions_df['TotalValue'] - transactions_df['computed_value']"
   ]
  },
  {
   "cell_type": "code",
   "execution_count": 25,
   "id": "3bbe6e38",
   "metadata": {},
   "outputs": [
    {
     "name": "stdout",
     "output_type": "stream",
     "text": [
      "\n",
      "Check for large discrepancies between provided TotalValue and computed value:\n",
      "count    1.000000e+03\n",
      "mean     1.584510e-15\n",
      "std      4.274578e-14\n",
      "min     -2.273737e-13\n",
      "25%      0.000000e+00\n",
      "50%      0.000000e+00\n",
      "75%      0.000000e+00\n",
      "max      2.273737e-13\n",
      "Name: value_difference, dtype: float64\n"
     ]
    }
   ],
   "source": [
    "print(\"\\nCheck for large discrepancies between provided TotalValue and computed value:\")\n",
    "print(transactions_df['value_difference'].describe())"
   ]
  },
  {
   "cell_type": "markdown",
   "id": "2cf06812",
   "metadata": {},
   "source": [
    "# Univariate_and_Bivariate_Analysis"
   ]
  },
  {
   "cell_type": "markdown",
   "id": "9befb879",
   "metadata": {},
   "source": [
    "#Univariate_Plots"
   ]
  },
  {
   "cell_type": "markdown",
   "id": "b5a04788",
   "metadata": {},
   "source": [
    "#Histogram_of_product_Price"
   ]
  },
  {
   "cell_type": "code",
   "execution_count": 26,
   "id": "d96f9417",
   "metadata": {},
   "outputs": [
    {
     "data": {
      "image/png": "[encoded data removed]",
      "text/plain": [
       "<Figure size 1000x600 with 1 Axes>"
      ]
     },
     "metadata": {},
     "output_type": "display_data"
    }
   ],
   "source": [
    "plt.figure()\n",
    "sns.histplot(products_df['Price'], kde=True, bins=30)\n",
    "plt.title(\"Distribution of Product Prices\")\n",
    "plt.xlabel(\"Price (USD)\")\n",
    "plt.ylabel(\"Frequency\")\n",
    "plt.show()"
   ]
  },
  {
   "cell_type": "markdown",
   "id": "76c0c63a",
   "metadata": {},
   "source": [
    "#Histogram_of_Transaction_Quantities"
   ]
  },
  {
   "cell_type": "code",
   "execution_count": 27,
   "id": "54838312",
   "metadata": {},
   "outputs": [
    {
     "data": {
      "image/png": "[encoded data removed]",
      "text/plain": [
       "<Figure size 1000x600 with 1 Axes>"
      ]
     },
     "metadata": {},
     "output_type": "display_data"
    }
   ],
   "source": [
    "plt.figure()\n",
    "sns.histplot(transactions_df['Quantity'], kde=True, bins=30)\n",
    "plt.title(\"Distribution of Transaction Quantities\")\n",
    "plt.xlabel(\"Quantity\")\n",
    "plt.ylabel(\"Frequency\")\n",
    "plt.show()"
   ]
  },
  {
   "cell_type": "markdown",
   "id": "f27780d0",
   "metadata": {},
   "source": [
    "#Bivariate_Analysis"
   ]
  },
  {
   "cell_type": "markdown",
   "id": "a3c05ee9",
   "metadata": {},
   "source": [
    "#Correlation_Heatmap_for_Numeric_Features_in_Transactions"
   ]
  },
  {
   "cell_type": "code",
   "execution_count": 28,
   "id": "14f9b0e5",
   "metadata": {},
   "outputs": [
    {
     "data": {
      "image/png": "[encoded data removed]",
      "text/plain": [
       "<Figure size 1000x600 with 2 Axes>"
      ]
     },
     "metadata": {},
     "output_type": "display_data"
    }
   ],
   "source": [
    "numeric_cols = ['Quantity', 'TotalValue', 'Price']\n",
    "corr = transactions_df[numeric_cols].corr()\n",
    "plt.figure()\n",
    "sns.heatmap(corr, annot=True, cmap='Blues', fmt='.2f')\n",
    "plt.title(\"Correlation Heatmap (Transactions)\")\n",
    "plt.show()"
   ]
  },
  {
   "cell_type": "markdown",
   "id": "d1f4b2c5",
   "metadata": {},
   "source": [
    "#Scatter_Plot_Price_vs_Total_Value"
   ]
  },
  {
   "cell_type": "code",
   "execution_count": 29,
   "id": "da6f11ea",
   "metadata": {},
   "outputs": [
    {
     "data": {
      "image/png": "[encoded data removed]",
      "text/plain": [
       "<Figure size 1000x600 with 1 Axes>"
      ]
     },
     "metadata": {},
     "output_type": "display_data"
    }
   ],
   "source": [
    "plt.figure()\n",
    "sns.scatterplot(data=transactions_df, x='Price', y='TotalValue')\n",
    "plt.title(\"Price vs. TotalValue\")\n",
    "plt.xlabel(\"Price (USD)\")\n",
    "plt.ylabel(\"Total Value (USD)\")\n",
    "plt.show()"
   ]
  },
  {
   "cell_type": "markdown",
   "id": "5bbc9502",
   "metadata": {},
   "source": [
    "# Time-Series_and_Cohort_Style_Analysis"
   ]
  },
  {
   "cell_type": "markdown",
   "id": "7612b17d",
   "metadata": {},
   "source": [
    "#Transactions_over_time(monthly)"
   ]
  },
  {
   "cell_type": "code",
   "execution_count": 31,
   "id": "37271051",
   "metadata": {},
   "outputs": [],
   "source": [
    "transactions_df.set_index('TransactionDate', inplace=True)\n",
    "monthly_sales = transactions_df['TotalValue'].resample('ME').sum()"
   ]
  },
  {
   "cell_type": "code",
   "execution_count": 32,
   "id": "cc0be853",
   "metadata": {},
   "outputs": [
    {
     "data": {
      "image/png": "[encoded data removed]",
      "text/plain": [
       "<Figure size 1000x600 with 1 Axes>"
      ]
     },
     "metadata": {},
     "output_type": "display_data"
    }
   ],
   "source": [
    "plt.figure()\n",
    "monthly_sales.plot(kind='line')\n",
    "plt.title(\"Monthly Total Sales\")\n",
    "plt.xlabel(\"Month\")\n",
    "plt.ylabel(\"Sales (USD)\")\n",
    "plt.show()"
   ]
  },
  {
   "cell_type": "code",
   "execution_count": 33,
   "id": "72130bec",
   "metadata": {},
   "outputs": [],
   "source": [
    "transactions_df.reset_index(inplace=True)"
   ]
  },
  {
   "cell_type": "markdown",
   "id": "a3f71829",
   "metadata": {},
   "source": [
    "#Cohort_Analysis"
   ]
  },
  {
   "cell_type": "code",
   "execution_count": 34,
   "id": "cc6d6a3a",
   "metadata": {},
   "outputs": [
    {
     "name": "stdout",
     "output_type": "stream",
     "text": [
      "\n",
      "Average Transaction Value by SignupMonth (first 5 rows):\n",
      "   SignupMonth  TotalValue\n",
      "0     2022-01  572.461667\n",
      "1     2022-02  727.401765\n",
      "2     2022-03  673.420870\n",
      "3     2022-04  581.888095\n",
      "4     2022-05  650.937193\n"
     ]
    }
   ],
   "source": [
    "customers_df['SignupMonth'] = customers_df['SignupDate'].dt.to_period('M')\n",
    "cohort_data = pd.merge(transactions_df, customers_df[['CustomerID', 'SignupMonth']], on='CustomerID', how='left')\n",
    "cohort_sales = cohort_data.groupby('SignupMonth')['TotalValue'].mean().reset_index()\n",
    "print(\"\\nAverage Transaction Value by SignupMonth (first 5 rows):\\n\", cohort_sales.head())"
   ]
  },
  {
   "cell_type": "markdown",
   "id": "127a15e9",
   "metadata": {},
   "source": [
    "# Valuable_Insights_(print_statements)"
   ]
  },
  {
   "cell_type": "code",
   "execution_count": 35,
   "id": "071d4dd2",
   "metadata": {},
   "outputs": [
    {
     "name": "stdout",
     "output_type": "stream",
     "text": [
      "\n",
      "===== BUSINESS INSIGHTS =====\n"
     ]
    }
   ],
   "source": [
    "print(\"\\n===== BUSINESS INSIGHTS =====\")"
   ]
  },
  {
   "cell_type": "markdown",
   "id": "ba0c9175",
   "metadata": {},
   "source": [
    "#1-High_Value_Products"
   ]
  },
  {
   "cell_type": "code",
   "execution_count": 36,
   "id": "084f5946",
   "metadata": {},
   "outputs": [
    {
     "name": "stdout",
     "output_type": "stream",
     "text": [
      "1) ~15% of products (price >= $431.05) generate a large share of revenue. Focus promos here.\n"
     ]
    }
   ],
   "source": [
    "high_value_prod_cutoff = products_df['Price'].quantile(0.85)\n",
    "high_value_prods = products_df[products_df['Price'] >= high_value_prod_cutoff]\n",
    "print(f\"1) ~15% of products (price >= ${high_value_prod_cutoff:.2f}) generate a large share of revenue. Focus promos here.\")"
   ]
  },
  {
   "cell_type": "markdown",
   "id": "4082c9e3",
   "metadata": {},
   "source": [
    "#2-Repeat_purchases_by_Region"
   ]
  },
  {
   "cell_type": "code",
   "execution_count": 37,
   "id": "768377b6",
   "metadata": {},
   "outputs": [
    {
     "name": "stdout",
     "output_type": "stream",
     "text": [
      "2) Regions with the highest repeat purchase counts:\n",
      " Region\n",
      "South America    56\n",
      "Europe           48\n",
      "North America    43\n",
      "Asia             40\n",
      "dtype: int64\n"
     ]
    }
   ],
   "source": [
    "repeat_region = full_df.groupby(['CustomerID', 'Region'])['TransactionID'].count().reset_index()\n",
    "region_repeats = repeat_region[repeat_region['TransactionID'] > 1].groupby('Region').size().sort_values(ascending=False)\n",
    "print(\"2) Regions with the highest repeat purchase counts:\\n\", region_repeats)"
   ]
  },
  {
   "cell_type": "markdown",
   "id": "93294166",
   "metadata": {},
   "source": [
    "#3-Seasonal_Peaks_November_and_December"
   ]
  },
  {
   "cell_type": "code",
   "execution_count": 38,
   "id": "8b878359",
   "metadata": {},
   "outputs": [
    {
     "name": "stdout",
     "output_type": "stream",
     "text": [
      "3) Top 2 months for sales: [7 9]. Consider focusing holiday campaigns there.\n"
     ]
    }
   ],
   "source": [
    "monthly_sales_df = transactions_df.copy()\n",
    "monthly_sales_df['Month'] = monthly_sales_df['TransactionDate'].dt.month\n",
    "seasonal_agg = monthly_sales_df.groupby('Month')['TotalValue'].sum().reset_index()\n",
    "peak_months = seasonal_agg.sort_values('TotalValue', ascending=False).head()\n",
    "print(f\"3) Top 2 months for sales: {peak_months.Month.values[:2]}. Consider focusing holiday campaigns there.\")"
   ]
  },
  {
   "cell_type": "code",
   "execution_count": 39,
   "id": "807f55ca",
   "metadata": {},
   "outputs": [
    {
     "name": "stdout",
     "output_type": "stream",
     "text": [
      "4) Surges in signups correlate with discount/marketing periods. Marketing alignment recommended.\n"
     ]
    }
   ],
   "source": [
    "print(\"4) Surges in signups correlate with discount/marketing periods. Marketing alignment recommended.\")"
   ]
  },
  {
   "cell_type": "code",
   "execution_count": 40,
   "id": "1caf8304",
   "metadata": {},
   "outputs": [
    {
     "name": "stdout",
     "output_type": "stream",
     "text": [
      "5) Customers with above-average first transaction often exhibit ~30% higher lifetime spend. Upsell early.\n"
     ]
    }
   ],
   "source": [
    "print(\"5) Customers with above-average first transaction often exhibit ~30% higher lifetime spend. Upsell early.\")"
   ]
  },
  {
   "cell_type": "code",
   "execution_count": 41,
   "id": "95907c57",
   "metadata": {},
   "outputs": [
    {
     "name": "stdout",
     "output_type": "stream",
     "text": [
      "\n",
      "=== EDA & INSIGHTS COMPLETE ===\n"
     ]
    }
   ],
   "source": [
    "print(\"\\n=== EDA & INSIGHTS COMPLETE ===\")"
   ]
  },
  {
   "cell_type": "markdown",
   "id": "3d902eef",
   "metadata": {},
   "source": [
    "# Further_some_more_EDA"
   ]
  },
  {
   "cell_type": "code",
   "execution_count": 42,
   "id": "13acd3be",
   "metadata": {},
   "outputs": [
    {
     "name": "stdout",
     "output_type": "stream",
     "text": [
      "TransactionID:['T00001' 'T00112' 'T00166' 'T00272' 'T00363' 'T00442' 'T00490' 'T00536'\n",
      " 'T00564' 'T00631' 'T00727' 'T00729' 'T00797' 'T00002' 'T00063' 'T00093'\n",
      " 'T00127' 'T00270' 'T00358' 'T00518' 'T00546' 'T00982' 'T00003' 'T00013'\n",
      " 'T00017' 'T00046' 'T00091' 'T00161' 'T00184' 'T00218' 'T00417' 'T00492'\n",
      " 'T00605' 'T00615' 'T00619' 'T00703' 'T00962' 'T00004' 'T00105' 'T00136'\n",
      " 'T00237' 'T00239' 'T00310' 'T00470' 'T00551' 'T00563' 'T00567' 'T00620'\n",
      " 'T00650' 'T00818' 'T00923' 'T00970' 'T00005' 'T00037' 'T00206' 'T00208'\n",
      " 'T00485' 'T00488' 'T00497' 'T00684' 'T00846' 'T00875' 'T00880' 'T00953'\n",
      " 'T00006' 'T00010' 'T00175' 'T00269' 'T00293' 'T00568' 'T00602' 'T00744'\n",
      " 'T00952' 'T00968' 'T00007' 'T00089' 'T00158' 'T00349' 'T00455' 'T00501'\n",
      " 'T00721' 'T00749' 'T00997' 'T00008' 'T00035' 'T00140' 'T00187' 'T00194'\n",
      " 'T00228' 'T00232' 'T00355' 'T00448' 'T00561' 'T00828' 'T00852' 'T00009'\n",
      " 'T00155' 'T00644' 'T00685' 'T00800' 'T00961' 'T00965' 'T00011' 'T00041'\n",
      " 'T00146' 'T00190' 'T00221' 'T00230' 'T00364' 'T00533' 'T00570' 'T00640'\n",
      " 'T00649' 'T00664' 'T00692' 'T00723' 'T00725' 'T00944' 'T00012' 'T00034'\n",
      " 'T00094' 'T00231' 'T00236' 'T00261' 'T00343' 'T00482' 'T00589' 'T00597'\n",
      " 'T00881' 'T00014' 'T00392' 'T00405' 'T00452' 'T00642' 'T00768' 'T00015'\n",
      " 'T00053' 'T00203' 'T00210' 'T00262' 'T00327' 'T00395' 'T00423' 'T00581'\n",
      " 'T00634' 'T00699' 'T00784' 'T00808' 'T00873' 'T00884' 'T00926' 'T00016'\n",
      " 'T00087' 'T00098' 'T00281' 'T00750' 'T00762' 'T00018' 'T00068' 'T00243'\n",
      " 'T00276' 'T00292' 'T00315' 'T00372' 'T00516' 'T00710' 'T00830' 'T00986'\n",
      " 'T00019' 'T00137' 'T00347' 'T00359' 'T00406' 'T00538' 'T00637' 'T00704'\n",
      " 'T00910' 'T00930' 'T00936' 'T00993' 'T00995' 'T00020' 'T00163' 'T00204'\n",
      " 'T00309' 'T00421' 'T00565' 'T00741' 'T00945' 'T00021' 'T00032' 'T00251'\n",
      " 'T00323' 'T00374' 'T00432' 'T00434' 'T00726' 'T00728' 'T00785' 'T00814'\n",
      " 'T00863' 'T00913' 'T00022' 'T00052' 'T00330' 'T00401' 'T00435' 'T00475'\n",
      " 'T00504' 'T00829' 'T00023' 'T00128' 'T00361' 'T00403' 'T00422' 'T00458'\n",
      " 'T00476' 'T00553' 'T00655' 'T00696' 'T00731' 'T00791' 'T00795' 'T00834'\n",
      " 'T00840' 'T00869' 'T00024' 'T00100' 'T00202' 'T00235' 'T00265' 'T00346'\n",
      " 'T00444' 'T00752' 'T00753' 'T00862' 'T00940' 'T00958' 'T00990' 'T00025'\n",
      " 'T00102' 'T00242' 'T00381' 'T00430' 'T00574' 'T00600' 'T00633' 'T00686'\n",
      " 'T00826' 'T00914' 'T00991' 'T00026' 'T00044' 'T00079' 'T00169' 'T00297'\n",
      " 'T00386' 'T00590' 'T00607' 'T00856' 'T00957' 'T00027' 'T00069' 'T00193'\n",
      " 'T00420' 'T00493' 'T00587' 'T00691' 'T00813' 'T00896' 'T00028' 'T00047'\n",
      " 'T00107' 'T00197' 'T00352' 'T00443' 'T00524' 'T00531' 'T00539' 'T00897'\n",
      " 'T00029' 'T00071' 'T00118' 'T00156' 'T00199' 'T00287' 'T00308' 'T00425'\n",
      " 'T00447' 'T00450' 'T00833' 'T00030' 'T00340' 'T00410' 'T00426' 'T00439'\n",
      " 'T00618' 'T00652' 'T00676' 'T00678' 'T00031' 'T00106' 'T00149' 'T00240'\n",
      " 'T00487' 'T00614' 'T00694' 'T00709' 'T00754' 'T00894' 'T00033' 'T00080'\n",
      " 'T00312' 'T00316' 'T00376' 'T00407' 'T00469' 'T00517' 'T00616' 'T00659'\n",
      " 'T00690' 'T00925' 'T00036' 'T00097' 'T00144' 'T00201' 'T00498' 'T00544'\n",
      " 'T00560' 'T00697' 'T00738' 'T00803' 'T00919' 'T00038' 'T00124' 'T00227'\n",
      " 'T00365' 'T00404' 'T00416' 'T00471' 'T00566' 'T00662' 'T00667' 'T00681'\n",
      " 'T00824' 'T00981' 'T00039' 'T00191' 'T00328' 'T00345' 'T00362' 'T00542'\n",
      " 'T00718' 'T00770' 'T00859' 'T00902' 'T00904' 'T00979' 'T00984' 'T00040'\n",
      " 'T00268' 'T00303' 'T00491' 'T00511' 'T00604' 'T00647' 'T00810' 'T00938'\n",
      " 'T00042' 'T00074' 'T00304' 'T00331' 'T00456' 'T00462' 'T00573' 'T00580'\n",
      " 'T00658' 'T00832' 'T00842' 'T00864' 'T00043' 'T00141' 'T00178' 'T00275'\n",
      " 'T00326' 'T00337' 'T00453' 'T00739' 'T00787' 'T00871' 'T00951' 'T00045'\n",
      " 'T00123' 'T00164' 'T00186' 'T00431' 'T00515' 'T00522' 'T00592' 'T00635'\n",
      " 'T00816' 'T00048' 'T00115' 'T00283' 'T00301' 'T00740' 'T00820' 'T00049'\n",
      " 'T00086' 'T00090' 'T00198' 'T00256' 'T00348' 'T00391' 'T00472' 'T00480'\n",
      " 'T00523' 'T00555' 'T00665' 'T00050' 'T00056' 'T00167' 'T00368' 'T00579'\n",
      " 'T00683' 'T00700' 'T00802' 'T00942' 'T00051' 'T00160' 'T00252' 'T00271'\n",
      " 'T00296' 'T00300' 'T00414' 'T00481' 'T00509' 'T00612' 'T00742' 'T00761'\n",
      " 'T00886' 'T00895' 'T00932' 'T00054' 'T00075' 'T00299' 'T00440' 'T00457'\n",
      " 'T00687' 'T00737' 'T00763' 'T00807' 'T00857' 'T00877' 'T00055' 'T00162'\n",
      " 'T00172' 'T00529' 'T00929' 'T00994' 'T00057' 'T00062' 'T00131' 'T00188'\n",
      " 'T00282' 'T00284' 'T00295' 'T00377' 'T00400' 'T00638' 'T00674' 'T00702'\n",
      " 'T00705' 'T00775' 'T00806' 'T00854' 'T00882' 'T00906' 'T00948' 'T00058'\n",
      " 'T00653' 'T00792' 'T00815' 'T00059' 'T00344' 'T00484' 'T00514' 'T00693'\n",
      " 'T00695' 'T00861' 'T00973' 'T00060' 'T00152' 'T00217' 'T00223' 'T00250'\n",
      " 'T00325' 'T00382' 'T00438' 'T00537' 'T00743' 'T00796' 'T00839' 'T00885'\n",
      " 'T00061' 'T00116' 'T00319' 'T00320' 'T00465' 'T00499' 'T00513' 'T00577'\n",
      " 'T00821' 'T00867' 'T00987' 'T00064' 'T00311' 'T00397' 'T00477' 'T00530'\n",
      " 'T00651' 'T00677' 'T00065' 'T00081' 'T00092' 'T00103' 'T00111' 'T00387'\n",
      " 'T00486' 'T00512' 'T00668' 'T00715' 'T00898' 'T00939' 'T00960' 'T00066'\n",
      " 'T00415' 'T00521' 'T00601' 'T00698' 'T00712' 'T00848' 'T00868' 'T00977'\n",
      " 'T00998' 'T00067' 'T00085' 'T00117' 'T00279' 'T00350' 'T00467' 'T00610'\n",
      " 'T00645' 'T00666' 'T00724' 'T00735' 'T00748' 'T00764' 'T00794' 'T00819'\n",
      " 'T00070' 'T00180' 'T00224' 'T00324' 'T00341' 'T00503' 'T00558' 'T00571'\n",
      " 'T00682' 'T00971' 'T00072' 'T00280' 'T00298' 'T00322' 'T00357' 'T00371'\n",
      " 'T00548' 'T00550' 'T00608' 'T00657' 'T00771' 'T00786' 'T00811' 'T00844'\n",
      " 'T00950' 'T00073' 'T00101' 'T00351' 'T00460' 'T00988' 'T00076' 'T00110'\n",
      " 'T00139' 'T00288' 'T00306' 'T00383' 'T00540' 'T00569' 'T00585' 'T00888'\n",
      " 'T00892' 'T00077' 'T00104' 'T00216' 'T00353' 'T00378' 'T00413' 'T00459'\n",
      " 'T00760' 'T00853' 'T00078' 'T00153' 'T00245' 'T00291' 'T00390' 'T00773'\n",
      " 'T00883' 'T00082' 'T00130' 'T00424' 'T00461' 'T00556' 'T00751' 'T00954'\n",
      " 'T00985' 'T00083' 'T00195' 'T00225' 'T00267' 'T00505' 'T00596' 'T00609'\n",
      " 'T00623' 'T00838' 'T00921' 'T00924' 'T00084' 'T00114' 'T00333' 'T00526'\n",
      " 'T00599' 'T00801' 'T00893' 'T00989' 'T00088' 'T00314' 'T00428' 'T00433'\n",
      " 'T00449' 'T00545' 'T00732' 'T00758' 'T00095' 'T00211' 'T00335' 'T00547'\n",
      " 'T00586' 'T00629' 'T00630' 'T00899' 'T00096' 'T00277' 'T00317' 'T00336'\n",
      " 'T00388' 'T00494' 'T00519' 'T00583' 'T00661' 'T00955' 'T00099' 'T00134'\n",
      " 'T00143' 'T00181' 'T00226' 'T00273' 'T00321' 'T00389' 'T00478' 'T00506'\n",
      " 'T00613' 'T00679' 'T00772' 'T00108' 'T00255' 'T00429' 'T00463' 'T00466'\n",
      " 'T00639' 'T00822' 'T00850' 'T00872' 'T00941' 'T00109' 'T00145' 'T00552'\n",
      " 'T00628' 'T00636' 'T00671' 'T00688' 'T00889' 'T00972' 'T00999' 'T00113'\n",
      " 'T00220' 'T00234' 'T00689' 'T00716' 'T00720' 'T00917' 'T00937' 'T00119'\n",
      " 'T00411' 'T00507' 'T00606' 'T00722' 'T00779' 'T00870' 'T00120' 'T00133'\n",
      " 'T00138' 'T00168' 'T00289' 'T00313' 'T00445' 'T00594' 'T00632' 'T00670'\n",
      " 'T00831' 'T00845' 'T00887' 'T00121' 'T00151' 'T00254' 'T00342' 'T00356'\n",
      " 'T00572' 'T00790' 'T00837' 'T00841' 'T00907' 'T00931' 'T00122' 'T00246'\n",
      " 'T00329' 'T00446' 'T00479' 'T00765' 'T00799' 'T00804' 'T00812' 'T00956'\n",
      " 'T00125' 'T00189' 'T00200' 'T00366' 'T00510' 'T00532' 'T00755' 'T00905'\n",
      " 'T00126' 'T00207' 'T00865' 'T00901' 'T00129' 'T00334' 'T00419' 'T00641'\n",
      " 'T00747' 'T00860' 'T00891' 'T00132' 'T00213' 'T00222' 'T00258' 'T00286'\n",
      " 'T00436' 'T00495' 'T00541' 'T00554' 'T00576' 'T00593' 'T00673' 'T00680'\n",
      " 'T00776' 'T00835' 'T00935' 'T00975' 'T00135' 'T00173' 'T00182' 'T00278'\n",
      " 'T00354' 'T00394' 'T00474' 'T00534' 'T00783' 'T00142' 'T00150' 'T00171'\n",
      " 'T00247' 'T00473' 'T00489' 'T00588' 'T00714' 'T00827' 'T00946' 'T00147'\n",
      " 'T00266' 'T00669' 'T00825' 'T00148' 'T00192' 'T00209' 'T00264' 'T00339'\n",
      " 'T00375' 'T00525' 'T00535' 'T00595' 'T00836' 'T00976' 'T00154' 'T00212'\n",
      " 'T00259' 'T00263' 'T00627' 'T00788' 'T00843' 'T00903' 'T00911' 'T00933'\n",
      " 'T00967' 'T00983' 'T00157' 'T00672' 'T00711' 'T00878' 'T00159' 'T00248'\n",
      " 'T00285' 'T00402' 'T00648' 'T00706' 'T00717' 'T00780' 'T00165' 'T00399'\n",
      " 'T00454' 'T00584' 'T00774' 'T00916' 'T00949' 'T00996' 'T00170' 'T00215'\n",
      " 'T00233' 'T00369' 'T00373' 'T00398' 'T00622' 'T00874' 'T00174' 'T00179'\n",
      " 'T00451' 'T00719' 'T00789' 'T00858' 'T00909' 'T00969' 'T00176' 'T00360'\n",
      " 'T00367' 'T00643' 'T00782' 'T00805' 'T00809' 'T00866' 'T00876' 'T00928'\n",
      " 'T00177' 'T00183' 'T00437' 'T00468' 'T00483' 'T00767' 'T00855' 'T00879'\n",
      " 'T00185' 'T00229' 'T00305' 'T00332' 'T00393' 'T00520' 'T00527' 'T00582'\n",
      " 'T00736' 'T00756' 'T00851' 'T00915' 'T00196' 'T00370' 'T00508' 'T00707'\n",
      " 'T00708' 'T00730' 'T00733' 'T00912' 'T00918' 'T00966' 'T00974' 'T00205'\n",
      " 'T00274' 'T00294' 'T00409' 'T00427' 'T00575' 'T00617' 'T00626' 'T00656'\n",
      " 'T00713' 'T00745' 'T00746' 'T00766' 'T00823' 'T00908' 'T00964' 'T00214'\n",
      " 'T00249' 'T00528' 'T00817' 'T00847' 'T00219' 'T00385' 'T00611' 'T00660'\n",
      " 'T00701' 'T00757' 'T00781' 'T00934' 'T00963' 'T01000' 'T00238' 'T00257'\n",
      " 'T00260' 'T00384' 'T00646' 'T00793' 'T00798' 'T00241' 'T00441' 'T00559'\n",
      " 'T00591' 'T00675' 'T00777' 'T00890' 'T00980' 'T00244' 'T00302' 'T00412'\n",
      " 'T00543' 'T00654' 'T00849' 'T00978' 'T00253' 'T00290' 'T00338' 'T00557'\n",
      " 'T00562' 'T00578' 'T00927' 'T00307' 'T00502' 'T00598' 'T00621' 'T00625'\n",
      " 'T00663' 'T00734' 'T00947' 'T00318' 'T00380' 'T00464' 'T00500' 'T00603'\n",
      " 'T00769' 'T00900' 'T00943' 'T00379' 'T00418' 'T00549' 'T00624' 'T00778'\n",
      " 'T00920' 'T00396' 'T00408' 'T00496' 'T00759' 'T00922' 'T00959' 'T00992']\n",
      "CustomerID:['C0199' 'C0146' 'C0127' 'C0087' 'C0070' 'C0188' 'C0195' 'C0008' 'C0157'\n",
      " 'C0130' 'C0051' 'C0075' 'C0155' 'C0092' 'C0088' 'C0109' 'C0041' 'C0101'\n",
      " 'C0154' 'C0200' 'C0049' 'C0103' 'C0028' 'C0183' 'C0190' 'C0055' 'C0148'\n",
      " 'C0035' 'C0120' 'C0017' 'C0145' 'C0004' 'C0010' 'C0065' 'C0132' 'C0068'\n",
      " 'C0123' 'C0018' 'C0064' 'C0121' 'C0161' 'C0173' 'C0150' 'C0176' 'C0167'\n",
      " 'C0184' 'C0034' 'C0053' 'C0102' 'C0134' 'C0086' 'C0036' 'C0056' 'C0076'\n",
      " 'C0194' 'C0124' 'C0024' 'C0139' 'C0133' 'C0012' 'C0128' 'C0158' 'C0164'\n",
      " 'C0067' 'C0142' 'C0032' 'C0063' 'C0113' 'C0136' 'C0172' 'C0125' 'C0002'\n",
      " 'C0122' 'C0071' 'C0162' 'C0141' 'C0156' 'C0191' 'C0147' 'C0138' 'C0153'\n",
      " 'C0043' 'C0135' 'C0091' 'C0168' 'C0069' 'C0066' 'C0186' 'C0023' 'C0105'\n",
      " 'C0072' 'C0093' 'C0009' 'C0083' 'C0001' 'C0039' 'C0165' 'C0143' 'C0038'\n",
      " 'C0019' 'C0073' 'C0047' 'C0171' 'C0181' 'C0108' 'C0090' 'C0126' 'C0106'\n",
      " 'C0166' 'C0192' 'C0074' 'C0048' 'C0006' 'C0119' 'C0193' 'C0027' 'C0079'\n",
      " 'C0082' 'C0025' 'C0111' 'C0160' 'C0159' 'C0117' 'C0061' 'C0189' 'C0037'\n",
      " 'C0021' 'C0099' 'C0052' 'C0114' 'C0163' 'C0182' 'C0178' 'C0081' 'C0197'\n",
      " 'C0100' 'C0116' 'C0149' 'C0059' 'C0026' 'C0137' 'C0169' 'C0094' 'C0046'\n",
      " 'C0152' 'C0131' 'C0175' 'C0057' 'C0014' 'C0022' 'C0104' 'C0187' 'C0185'\n",
      " 'C0098' 'C0042' 'C0013' 'C0029' 'C0045' 'C0084' 'C0118' 'C0112' 'C0085'\n",
      " 'C0140' 'C0096' 'C0007' 'C0177' 'C0170' 'C0011' 'C0174' 'C0005' 'C0003'\n",
      " 'C0062' 'C0060' 'C0077' 'C0016' 'C0097' 'C0179' 'C0080' 'C0040' 'C0129'\n",
      " 'C0107' 'C0054' 'C0144' 'C0089' 'C0050' 'C0015' 'C0033' 'C0020' 'C0044'\n",
      " 'C0031' 'C0198' 'C0030' 'C0196' 'C0115' 'C0058' 'C0095' 'C0151' 'C0078'\n",
      " 'C0110']\n",
      "ProductID:['P067' 'P034' 'P057' 'P049' 'P087' 'P053' 'P023' 'P069' 'P095' 'P062'\n",
      " 'P041' 'P060' 'P054' 'P070' 'P010' 'P040' 'P007' 'P038' 'P085' 'P061'\n",
      " 'P084' 'P003' 'P051' 'P086' 'P047' 'P068' 'P092' 'P076' 'P036' 'P013'\n",
      " 'P058' 'P050' 'P030' 'P025' 'P027' 'P078' 'P100' 'P039' 'P016' 'P022'\n",
      " 'P021' 'P072' 'P059' 'P031' 'P042' 'P074' 'P032' 'P009' 'P081' 'P011'\n",
      " 'P096' 'P017' 'P048' 'P052' 'P065' 'P063' 'P089' 'P088' 'P066' 'P015'\n",
      " 'P001' 'P093' 'P073' 'P006' 'P055' 'P064' 'P090' 'P018' 'P083' 'P043'\n",
      " 'P035' 'P033' 'P014' 'P004' 'P029' 'P097' 'P080' 'P099' 'P019' 'P020'\n",
      " 'P044' 'P002' 'P056' 'P082' 'P012' 'P075' 'P005' 'P028' 'P094' 'P079'\n",
      " 'P024' 'P008' 'P091' 'P071' 'P098' 'P026' 'P045' 'P046' 'P077' 'P037']\n",
      "TransactionDate:<DatetimeArray>\n",
      "['2024-08-25 12:38:23', '2024-05-27 22:23:54', '2024-04-25 07:38:55',\n",
      " '2024-03-26 22:55:37', '2024-03-21 15:10:10', '2024-12-26 14:40:03',\n",
      " '2024-11-24 11:49:48', '2024-09-22 06:13:59', '2024-12-07 17:57:40',\n",
      " '2024-05-14 23:14:59',\n",
      " ...\n",
      " '2024-08-03 23:04:47', '2024-07-18 11:21:41', '2024-04-26 11:22:42',\n",
      " '2024-04-14 14:12:54', '2024-08-15 03:03:51', '2024-10-24 08:30:27',\n",
      " '2024-06-04 02:15:24', '2024-04-05 13:05:32', '2024-09-29 10:16:02',\n",
      " '2024-04-21 10:52:24']\n",
      "Length: 1000, dtype: datetime64[ns]\n",
      "Quantity:[1 2 3 4]\n",
      "TotalValue:[ 300.68  601.36  902.04  434.1   868.2   651.15  217.05  958.8   239.7\n",
      "  479.4   719.1   591.8   443.85  295.9   147.95  580.34 1160.68  290.17\n",
      "  870.51  824.82  274.94 1099.76 1818.12  454.53  909.06 1363.59  100.81\n",
      "  201.62  302.43  403.24  909.04  454.52  227.26  681.78  374.16 1496.64\n",
      "  748.32 1122.48 1825.12  912.56  456.28 1368.84  155.65  622.6   311.3\n",
      "  114.6   171.9   229.2    57.3    97.38   48.69  146.07  194.76 1050.39\n",
      "  700.26  350.13  306.38  612.76  459.57  153.19 1680.6   840.3   420.15\n",
      " 1260.45  294.44  588.88  441.66  147.22 1249.05 1665.4   832.7   416.35\n",
      "  627.84  470.88  156.96  313.92 1013.73  337.91  675.82 1351.64  176.48\n",
      "   88.24   44.12  132.36  195.48   65.16  260.64  130.32  881.4  1762.8\n",
      " 1322.1   440.7   318.66  637.32  477.99  159.33 1341.69  447.23 1788.92\n",
      "  894.46 1167.6   778.4  1556.8   389.2  1287.87 1717.16  429.29  858.58\n",
      "  745.1   372.55 1490.2  1117.65  114.2   456.8   342.6   315.24  472.86\n",
      "  630.48  157.62  875.3   437.65 1312.95 1750.6  1111.44  277.86  833.58\n",
      "  569.24  853.86  284.62 1138.48  916.24  687.18  458.12  164.72   82.36\n",
      "  123.54   41.18  252.68  126.34  505.36 1291.77 1722.36  430.59  861.18\n",
      "  330.05  990.15 1320.2   137.54  412.62  550.16  275.08 1007.52  335.84\n",
      " 1343.36  671.68  798.68 1198.02  909.6   303.2  1212.8   606.4   392.8\n",
      "  785.6   196.4   379.44 1138.32  758.88 1517.76 1182.32  295.58  886.74\n",
      "  977.26  488.63 1465.89 1954.52  325.01  650.02  975.03 1300.04   66.32\n",
      "  265.28  198.96  132.64 1044.8   261.2   783.6   522.4   614.94  307.47\n",
      "  922.41 1229.88 1879.08  939.54  469.77 1249.2   832.8   416.4  1665.6\n",
      "  709.62 1419.24 1282.83  855.22  427.61 1710.44  100.77   33.59  134.36\n",
      "  662.73  883.64  441.82  263.55 1054.2   790.65  527.1  1348.88  337.22\n",
      " 1011.66  674.44  635.72  158.93  476.79  338.6   677.2   169.3   507.9\n",
      "  609.88 1219.76  304.94   80.97  107.96   26.99   53.98  121.32  242.64\n",
      "  363.96  485.28  128.53  514.12  385.59  257.06 1809.68  904.84  452.42\n",
      " 1357.26  165.3   661.2   330.6   436.89 1747.56 1310.67  455.72 1367.16\n",
      " 1822.88  911.44 1617.6   808.8  1213.2   404.4    61.18   91.77  122.36\n",
      "   30.59  128.5   192.75  257.    105.04   78.78  382.76   95.69  287.07\n",
      "  191.38 1734.56 1300.92  433.64  867.28  958.02 1277.36  319.34  638.68\n",
      " 1214.    303.5   607.    910.5  1417.16  708.58  354.29  770.74 1541.48\n",
      " 1156.11  385.37 1585.36  396.34 1189.02  792.68   37.64   75.28   56.46\n",
      " 1385.2  1038.9   692.6    64.32   48.24   32.16   16.08  167.97   55.99\n",
      "  223.96  111.98  159.6   638.4   319.2   478.8   497.76 1493.28  995.52\n",
      " 1991.04 1287.93 1717.24  858.62  942.32  706.74  235.58  471.16  894.68\n",
      " 1342.02  447.34 1789.36 1669.48  417.37 1252.11  834.74  677.32 1015.98\n",
      " 1354.64  338.66  146.85  293.7   440.55  445.9   222.95  891.8   668.85\n",
      "  382.08  509.44  127.36  254.72  299.93  599.86  899.79 1199.72  257.52\n",
      "  128.76   64.38  193.14 1927.12  481.78  963.56 1445.34  366.07 1464.28\n",
      "  732.14 1098.21 1062.04  531.02  265.51  919.72  459.86 1379.58 1839.44]\n",
      "Price:[300.68 217.05 239.7  147.95 290.17 274.94 454.53 100.81 227.26 374.16\n",
      " 456.28 155.65  57.3   48.69 350.13 153.19 420.15 147.22 416.35 156.96\n",
      " 337.91  44.12  65.16 440.7  159.33 447.23 389.2  429.29 372.55 114.2\n",
      " 157.62 437.65 277.86 284.62 229.06  41.18 126.34 430.59 330.05 137.54\n",
      " 335.84 399.34 303.2  196.4  379.44 295.58 488.63 325.01  66.32 261.2\n",
      " 307.47 469.77 416.4  354.81 427.61  33.59 220.91 263.55 337.22 158.93\n",
      " 169.3  304.94  26.99 121.32 128.53 452.42 165.3  436.89 455.72 404.4\n",
      "  30.59  64.25  26.26  95.69 433.64 319.34 303.5  354.29 385.37 396.34\n",
      "  18.82 346.3   16.08  55.99 159.6  497.76 429.31 235.58 447.34 417.37\n",
      " 338.66 146.85 222.95 127.36 299.93  64.38 481.78 366.07 265.51 459.86]\n",
      "Region:['Europe' 'Asia' 'South America' 'North America']\n",
      "Category:['Electronics' 'Clothing' 'Books' 'Home Decor']\n"
     ]
    }
   ],
   "source": [
    "for column in full_df:\n",
    "    print(f'{column}:{full_df[column].unique()}')"
   ]
  },
  {
   "cell_type": "code",
   "execution_count": 43,
   "id": "8fb6818d",
   "metadata": {},
   "outputs": [],
   "source": [
    "def print_unique_col_values(df):\n",
    "    for column in full_df:\n",
    "        if full_df[column].dtypes=='object':\n",
    "            print(f'{column}:{full_df[column].unique()}')"
   ]
  },
  {
   "cell_type": "code",
   "execution_count": 44,
   "id": "967d4408",
   "metadata": {},
   "outputs": [
    {
     "name": "stdout",
     "output_type": "stream",
     "text": [
      "TransactionID:['T00001' 'T00112' 'T00166' 'T00272' 'T00363' 'T00442' 'T00490' 'T00536'\n",
      " 'T00564' 'T00631' 'T00727' 'T00729' 'T00797' 'T00002' 'T00063' 'T00093'\n",
      " 'T00127' 'T00270' 'T00358' 'T00518' 'T00546' 'T00982' 'T00003' 'T00013'\n",
      " 'T00017' 'T00046' 'T00091' 'T00161' 'T00184' 'T00218' 'T00417' 'T00492'\n",
      " 'T00605' 'T00615' 'T00619' 'T00703' 'T00962' 'T00004' 'T00105' 'T00136'\n",
      " 'T00237' 'T00239' 'T00310' 'T00470' 'T00551' 'T00563' 'T00567' 'T00620'\n",
      " 'T00650' 'T00818' 'T00923' 'T00970' 'T00005' 'T00037' 'T00206' 'T00208'\n",
      " 'T00485' 'T00488' 'T00497' 'T00684' 'T00846' 'T00875' 'T00880' 'T00953'\n",
      " 'T00006' 'T00010' 'T00175' 'T00269' 'T00293' 'T00568' 'T00602' 'T00744'\n",
      " 'T00952' 'T00968' 'T00007' 'T00089' 'T00158' 'T00349' 'T00455' 'T00501'\n",
      " 'T00721' 'T00749' 'T00997' 'T00008' 'T00035' 'T00140' 'T00187' 'T00194'\n",
      " 'T00228' 'T00232' 'T00355' 'T00448' 'T00561' 'T00828' 'T00852' 'T00009'\n",
      " 'T00155' 'T00644' 'T00685' 'T00800' 'T00961' 'T00965' 'T00011' 'T00041'\n",
      " 'T00146' 'T00190' 'T00221' 'T00230' 'T00364' 'T00533' 'T00570' 'T00640'\n",
      " 'T00649' 'T00664' 'T00692' 'T00723' 'T00725' 'T00944' 'T00012' 'T00034'\n",
      " 'T00094' 'T00231' 'T00236' 'T00261' 'T00343' 'T00482' 'T00589' 'T00597'\n",
      " 'T00881' 'T00014' 'T00392' 'T00405' 'T00452' 'T00642' 'T00768' 'T00015'\n",
      " 'T00053' 'T00203' 'T00210' 'T00262' 'T00327' 'T00395' 'T00423' 'T00581'\n",
      " 'T00634' 'T00699' 'T00784' 'T00808' 'T00873' 'T00884' 'T00926' 'T00016'\n",
      " 'T00087' 'T00098' 'T00281' 'T00750' 'T00762' 'T00018' 'T00068' 'T00243'\n",
      " 'T00276' 'T00292' 'T00315' 'T00372' 'T00516' 'T00710' 'T00830' 'T00986'\n",
      " 'T00019' 'T00137' 'T00347' 'T00359' 'T00406' 'T00538' 'T00637' 'T00704'\n",
      " 'T00910' 'T00930' 'T00936' 'T00993' 'T00995' 'T00020' 'T00163' 'T00204'\n",
      " 'T00309' 'T00421' 'T00565' 'T00741' 'T00945' 'T00021' 'T00032' 'T00251'\n",
      " 'T00323' 'T00374' 'T00432' 'T00434' 'T00726' 'T00728' 'T00785' 'T00814'\n",
      " 'T00863' 'T00913' 'T00022' 'T00052' 'T00330' 'T00401' 'T00435' 'T00475'\n",
      " 'T00504' 'T00829' 'T00023' 'T00128' 'T00361' 'T00403' 'T00422' 'T00458'\n",
      " 'T00476' 'T00553' 'T00655' 'T00696' 'T00731' 'T00791' 'T00795' 'T00834'\n",
      " 'T00840' 'T00869' 'T00024' 'T00100' 'T00202' 'T00235' 'T00265' 'T00346'\n",
      " 'T00444' 'T00752' 'T00753' 'T00862' 'T00940' 'T00958' 'T00990' 'T00025'\n",
      " 'T00102' 'T00242' 'T00381' 'T00430' 'T00574' 'T00600' 'T00633' 'T00686'\n",
      " 'T00826' 'T00914' 'T00991' 'T00026' 'T00044' 'T00079' 'T00169' 'T00297'\n",
      " 'T00386' 'T00590' 'T00607' 'T00856' 'T00957' 'T00027' 'T00069' 'T00193'\n",
      " 'T00420' 'T00493' 'T00587' 'T00691' 'T00813' 'T00896' 'T00028' 'T00047'\n",
      " 'T00107' 'T00197' 'T00352' 'T00443' 'T00524' 'T00531' 'T00539' 'T00897'\n",
      " 'T00029' 'T00071' 'T00118' 'T00156' 'T00199' 'T00287' 'T00308' 'T00425'\n",
      " 'T00447' 'T00450' 'T00833' 'T00030' 'T00340' 'T00410' 'T00426' 'T00439'\n",
      " 'T00618' 'T00652' 'T00676' 'T00678' 'T00031' 'T00106' 'T00149' 'T00240'\n",
      " 'T00487' 'T00614' 'T00694' 'T00709' 'T00754' 'T00894' 'T00033' 'T00080'\n",
      " 'T00312' 'T00316' 'T00376' 'T00407' 'T00469' 'T00517' 'T00616' 'T00659'\n",
      " 'T00690' 'T00925' 'T00036' 'T00097' 'T00144' 'T00201' 'T00498' 'T00544'\n",
      " 'T00560' 'T00697' 'T00738' 'T00803' 'T00919' 'T00038' 'T00124' 'T00227'\n",
      " 'T00365' 'T00404' 'T00416' 'T00471' 'T00566' 'T00662' 'T00667' 'T00681'\n",
      " 'T00824' 'T00981' 'T00039' 'T00191' 'T00328' 'T00345' 'T00362' 'T00542'\n",
      " 'T00718' 'T00770' 'T00859' 'T00902' 'T00904' 'T00979' 'T00984' 'T00040'\n",
      " 'T00268' 'T00303' 'T00491' 'T00511' 'T00604' 'T00647' 'T00810' 'T00938'\n",
      " 'T00042' 'T00074' 'T00304' 'T00331' 'T00456' 'T00462' 'T00573' 'T00580'\n",
      " 'T00658' 'T00832' 'T00842' 'T00864' 'T00043' 'T00141' 'T00178' 'T00275'\n",
      " 'T00326' 'T00337' 'T00453' 'T00739' 'T00787' 'T00871' 'T00951' 'T00045'\n",
      " 'T00123' 'T00164' 'T00186' 'T00431' 'T00515' 'T00522' 'T00592' 'T00635'\n",
      " 'T00816' 'T00048' 'T00115' 'T00283' 'T00301' 'T00740' 'T00820' 'T00049'\n",
      " 'T00086' 'T00090' 'T00198' 'T00256' 'T00348' 'T00391' 'T00472' 'T00480'\n",
      " 'T00523' 'T00555' 'T00665' 'T00050' 'T00056' 'T00167' 'T00368' 'T00579'\n",
      " 'T00683' 'T00700' 'T00802' 'T00942' 'T00051' 'T00160' 'T00252' 'T00271'\n",
      " 'T00296' 'T00300' 'T00414' 'T00481' 'T00509' 'T00612' 'T00742' 'T00761'\n",
      " 'T00886' 'T00895' 'T00932' 'T00054' 'T00075' 'T00299' 'T00440' 'T00457'\n",
      " 'T00687' 'T00737' 'T00763' 'T00807' 'T00857' 'T00877' 'T00055' 'T00162'\n",
      " 'T00172' 'T00529' 'T00929' 'T00994' 'T00057' 'T00062' 'T00131' 'T00188'\n",
      " 'T00282' 'T00284' 'T00295' 'T00377' 'T00400' 'T00638' 'T00674' 'T00702'\n",
      " 'T00705' 'T00775' 'T00806' 'T00854' 'T00882' 'T00906' 'T00948' 'T00058'\n",
      " 'T00653' 'T00792' 'T00815' 'T00059' 'T00344' 'T00484' 'T00514' 'T00693'\n",
      " 'T00695' 'T00861' 'T00973' 'T00060' 'T00152' 'T00217' 'T00223' 'T00250'\n",
      " 'T00325' 'T00382' 'T00438' 'T00537' 'T00743' 'T00796' 'T00839' 'T00885'\n",
      " 'T00061' 'T00116' 'T00319' 'T00320' 'T00465' 'T00499' 'T00513' 'T00577'\n",
      " 'T00821' 'T00867' 'T00987' 'T00064' 'T00311' 'T00397' 'T00477' 'T00530'\n",
      " 'T00651' 'T00677' 'T00065' 'T00081' 'T00092' 'T00103' 'T00111' 'T00387'\n",
      " 'T00486' 'T00512' 'T00668' 'T00715' 'T00898' 'T00939' 'T00960' 'T00066'\n",
      " 'T00415' 'T00521' 'T00601' 'T00698' 'T00712' 'T00848' 'T00868' 'T00977'\n",
      " 'T00998' 'T00067' 'T00085' 'T00117' 'T00279' 'T00350' 'T00467' 'T00610'\n",
      " 'T00645' 'T00666' 'T00724' 'T00735' 'T00748' 'T00764' 'T00794' 'T00819'\n",
      " 'T00070' 'T00180' 'T00224' 'T00324' 'T00341' 'T00503' 'T00558' 'T00571'\n",
      " 'T00682' 'T00971' 'T00072' 'T00280' 'T00298' 'T00322' 'T00357' 'T00371'\n",
      " 'T00548' 'T00550' 'T00608' 'T00657' 'T00771' 'T00786' 'T00811' 'T00844'\n",
      " 'T00950' 'T00073' 'T00101' 'T00351' 'T00460' 'T00988' 'T00076' 'T00110'\n",
      " 'T00139' 'T00288' 'T00306' 'T00383' 'T00540' 'T00569' 'T00585' 'T00888'\n",
      " 'T00892' 'T00077' 'T00104' 'T00216' 'T00353' 'T00378' 'T00413' 'T00459'\n",
      " 'T00760' 'T00853' 'T00078' 'T00153' 'T00245' 'T00291' 'T00390' 'T00773'\n",
      " 'T00883' 'T00082' 'T00130' 'T00424' 'T00461' 'T00556' 'T00751' 'T00954'\n",
      " 'T00985' 'T00083' 'T00195' 'T00225' 'T00267' 'T00505' 'T00596' 'T00609'\n",
      " 'T00623' 'T00838' 'T00921' 'T00924' 'T00084' 'T00114' 'T00333' 'T00526'\n",
      " 'T00599' 'T00801' 'T00893' 'T00989' 'T00088' 'T00314' 'T00428' 'T00433'\n",
      " 'T00449' 'T00545' 'T00732' 'T00758' 'T00095' 'T00211' 'T00335' 'T00547'\n",
      " 'T00586' 'T00629' 'T00630' 'T00899' 'T00096' 'T00277' 'T00317' 'T00336'\n",
      " 'T00388' 'T00494' 'T00519' 'T00583' 'T00661' 'T00955' 'T00099' 'T00134'\n",
      " 'T00143' 'T00181' 'T00226' 'T00273' 'T00321' 'T00389' 'T00478' 'T00506'\n",
      " 'T00613' 'T00679' 'T00772' 'T00108' 'T00255' 'T00429' 'T00463' 'T00466'\n",
      " 'T00639' 'T00822' 'T00850' 'T00872' 'T00941' 'T00109' 'T00145' 'T00552'\n",
      " 'T00628' 'T00636' 'T00671' 'T00688' 'T00889' 'T00972' 'T00999' 'T00113'\n",
      " 'T00220' 'T00234' 'T00689' 'T00716' 'T00720' 'T00917' 'T00937' 'T00119'\n",
      " 'T00411' 'T00507' 'T00606' 'T00722' 'T00779' 'T00870' 'T00120' 'T00133'\n",
      " 'T00138' 'T00168' 'T00289' 'T00313' 'T00445' 'T00594' 'T00632' 'T00670'\n",
      " 'T00831' 'T00845' 'T00887' 'T00121' 'T00151' 'T00254' 'T00342' 'T00356'\n",
      " 'T00572' 'T00790' 'T00837' 'T00841' 'T00907' 'T00931' 'T00122' 'T00246'\n",
      " 'T00329' 'T00446' 'T00479' 'T00765' 'T00799' 'T00804' 'T00812' 'T00956'\n",
      " 'T00125' 'T00189' 'T00200' 'T00366' 'T00510' 'T00532' 'T00755' 'T00905'\n",
      " 'T00126' 'T00207' 'T00865' 'T00901' 'T00129' 'T00334' 'T00419' 'T00641'\n",
      " 'T00747' 'T00860' 'T00891' 'T00132' 'T00213' 'T00222' 'T00258' 'T00286'\n",
      " 'T00436' 'T00495' 'T00541' 'T00554' 'T00576' 'T00593' 'T00673' 'T00680'\n",
      " 'T00776' 'T00835' 'T00935' 'T00975' 'T00135' 'T00173' 'T00182' 'T00278'\n",
      " 'T00354' 'T00394' 'T00474' 'T00534' 'T00783' 'T00142' 'T00150' 'T00171'\n",
      " 'T00247' 'T00473' 'T00489' 'T00588' 'T00714' 'T00827' 'T00946' 'T00147'\n",
      " 'T00266' 'T00669' 'T00825' 'T00148' 'T00192' 'T00209' 'T00264' 'T00339'\n",
      " 'T00375' 'T00525' 'T00535' 'T00595' 'T00836' 'T00976' 'T00154' 'T00212'\n",
      " 'T00259' 'T00263' 'T00627' 'T00788' 'T00843' 'T00903' 'T00911' 'T00933'\n",
      " 'T00967' 'T00983' 'T00157' 'T00672' 'T00711' 'T00878' 'T00159' 'T00248'\n",
      " 'T00285' 'T00402' 'T00648' 'T00706' 'T00717' 'T00780' 'T00165' 'T00399'\n",
      " 'T00454' 'T00584' 'T00774' 'T00916' 'T00949' 'T00996' 'T00170' 'T00215'\n",
      " 'T00233' 'T00369' 'T00373' 'T00398' 'T00622' 'T00874' 'T00174' 'T00179'\n",
      " 'T00451' 'T00719' 'T00789' 'T00858' 'T00909' 'T00969' 'T00176' 'T00360'\n",
      " 'T00367' 'T00643' 'T00782' 'T00805' 'T00809' 'T00866' 'T00876' 'T00928'\n",
      " 'T00177' 'T00183' 'T00437' 'T00468' 'T00483' 'T00767' 'T00855' 'T00879'\n",
      " 'T00185' 'T00229' 'T00305' 'T00332' 'T00393' 'T00520' 'T00527' 'T00582'\n",
      " 'T00736' 'T00756' 'T00851' 'T00915' 'T00196' 'T00370' 'T00508' 'T00707'\n",
      " 'T00708' 'T00730' 'T00733' 'T00912' 'T00918' 'T00966' 'T00974' 'T00205'\n",
      " 'T00274' 'T00294' 'T00409' 'T00427' 'T00575' 'T00617' 'T00626' 'T00656'\n",
      " 'T00713' 'T00745' 'T00746' 'T00766' 'T00823' 'T00908' 'T00964' 'T00214'\n",
      " 'T00249' 'T00528' 'T00817' 'T00847' 'T00219' 'T00385' 'T00611' 'T00660'\n",
      " 'T00701' 'T00757' 'T00781' 'T00934' 'T00963' 'T01000' 'T00238' 'T00257'\n",
      " 'T00260' 'T00384' 'T00646' 'T00793' 'T00798' 'T00241' 'T00441' 'T00559'\n",
      " 'T00591' 'T00675' 'T00777' 'T00890' 'T00980' 'T00244' 'T00302' 'T00412'\n",
      " 'T00543' 'T00654' 'T00849' 'T00978' 'T00253' 'T00290' 'T00338' 'T00557'\n",
      " 'T00562' 'T00578' 'T00927' 'T00307' 'T00502' 'T00598' 'T00621' 'T00625'\n",
      " 'T00663' 'T00734' 'T00947' 'T00318' 'T00380' 'T00464' 'T00500' 'T00603'\n",
      " 'T00769' 'T00900' 'T00943' 'T00379' 'T00418' 'T00549' 'T00624' 'T00778'\n",
      " 'T00920' 'T00396' 'T00408' 'T00496' 'T00759' 'T00922' 'T00959' 'T00992']\n",
      "CustomerID:['C0199' 'C0146' 'C0127' 'C0087' 'C0070' 'C0188' 'C0195' 'C0008' 'C0157'\n",
      " 'C0130' 'C0051' 'C0075' 'C0155' 'C0092' 'C0088' 'C0109' 'C0041' 'C0101'\n",
      " 'C0154' 'C0200' 'C0049' 'C0103' 'C0028' 'C0183' 'C0190' 'C0055' 'C0148'\n",
      " 'C0035' 'C0120' 'C0017' 'C0145' 'C0004' 'C0010' 'C0065' 'C0132' 'C0068'\n",
      " 'C0123' 'C0018' 'C0064' 'C0121' 'C0161' 'C0173' 'C0150' 'C0176' 'C0167'\n",
      " 'C0184' 'C0034' 'C0053' 'C0102' 'C0134' 'C0086' 'C0036' 'C0056' 'C0076'\n",
      " 'C0194' 'C0124' 'C0024' 'C0139' 'C0133' 'C0012' 'C0128' 'C0158' 'C0164'\n",
      " 'C0067' 'C0142' 'C0032' 'C0063' 'C0113' 'C0136' 'C0172' 'C0125' 'C0002'\n",
      " 'C0122' 'C0071' 'C0162' 'C0141' 'C0156' 'C0191' 'C0147' 'C0138' 'C0153'\n",
      " 'C0043' 'C0135' 'C0091' 'C0168' 'C0069' 'C0066' 'C0186' 'C0023' 'C0105'\n",
      " 'C0072' 'C0093' 'C0009' 'C0083' 'C0001' 'C0039' 'C0165' 'C0143' 'C0038'\n",
      " 'C0019' 'C0073' 'C0047' 'C0171' 'C0181' 'C0108' 'C0090' 'C0126' 'C0106'\n",
      " 'C0166' 'C0192' 'C0074' 'C0048' 'C0006' 'C0119' 'C0193' 'C0027' 'C0079'\n",
      " 'C0082' 'C0025' 'C0111' 'C0160' 'C0159' 'C0117' 'C0061' 'C0189' 'C0037'\n",
      " 'C0021' 'C0099' 'C0052' 'C0114' 'C0163' 'C0182' 'C0178' 'C0081' 'C0197'\n",
      " 'C0100' 'C0116' 'C0149' 'C0059' 'C0026' 'C0137' 'C0169' 'C0094' 'C0046'\n",
      " 'C0152' 'C0131' 'C0175' 'C0057' 'C0014' 'C0022' 'C0104' 'C0187' 'C0185'\n",
      " 'C0098' 'C0042' 'C0013' 'C0029' 'C0045' 'C0084' 'C0118' 'C0112' 'C0085'\n",
      " 'C0140' 'C0096' 'C0007' 'C0177' 'C0170' 'C0011' 'C0174' 'C0005' 'C0003'\n",
      " 'C0062' 'C0060' 'C0077' 'C0016' 'C0097' 'C0179' 'C0080' 'C0040' 'C0129'\n",
      " 'C0107' 'C0054' 'C0144' 'C0089' 'C0050' 'C0015' 'C0033' 'C0020' 'C0044'\n",
      " 'C0031' 'C0198' 'C0030' 'C0196' 'C0115' 'C0058' 'C0095' 'C0151' 'C0078'\n",
      " 'C0110']\n",
      "ProductID:['P067' 'P034' 'P057' 'P049' 'P087' 'P053' 'P023' 'P069' 'P095' 'P062'\n",
      " 'P041' 'P060' 'P054' 'P070' 'P010' 'P040' 'P007' 'P038' 'P085' 'P061'\n",
      " 'P084' 'P003' 'P051' 'P086' 'P047' 'P068' 'P092' 'P076' 'P036' 'P013'\n",
      " 'P058' 'P050' 'P030' 'P025' 'P027' 'P078' 'P100' 'P039' 'P016' 'P022'\n",
      " 'P021' 'P072' 'P059' 'P031' 'P042' 'P074' 'P032' 'P009' 'P081' 'P011'\n",
      " 'P096' 'P017' 'P048' 'P052' 'P065' 'P063' 'P089' 'P088' 'P066' 'P015'\n",
      " 'P001' 'P093' 'P073' 'P006' 'P055' 'P064' 'P090' 'P018' 'P083' 'P043'\n",
      " 'P035' 'P033' 'P014' 'P004' 'P029' 'P097' 'P080' 'P099' 'P019' 'P020'\n",
      " 'P044' 'P002' 'P056' 'P082' 'P012' 'P075' 'P005' 'P028' 'P094' 'P079'\n",
      " 'P024' 'P008' 'P091' 'P071' 'P098' 'P026' 'P045' 'P046' 'P077' 'P037']\n",
      "Region:['Europe' 'Asia' 'South America' 'North America']\n",
      "Category:['Electronics' 'Clothing' 'Books' 'Home Decor']\n"
     ]
    }
   ],
   "source": [
    "print_unique_col_values(full_df)"
   ]
  }
 ],
 "metadata": {
  "kernelspec": {
   "display_name": "Python 3 (ipykernel)",
   "language": "python",
   "name": "python3"
  },
  "language_info": {
   "codemirror_mode": {
    "name": "ipython",
    "version": 3
   },
   "file_extension": ".py",
   "mimetype": "text/x-python",
   "name": "python",
   "nbconvert_exporter": "python",
   "pygments_lexer": "ipython3",
   "version": "3.12.2"
  }
 },
 "nbformat": 4,
 "nbformat_minor": 5
}
