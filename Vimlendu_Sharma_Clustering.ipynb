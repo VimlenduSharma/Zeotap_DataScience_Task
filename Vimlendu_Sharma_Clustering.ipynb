{
 "cells": [
  {
   "cell_type": "markdown",
   "id": "444e0ec0",
   "metadata": {},
   "source": [
    "# Customer_Segmentation_and_Clustering"
   ]
  },
  {
   "cell_type": "markdown",
   "id": "2f9c165e",
   "metadata": {},
   "source": [
    "# Imports_and_Data_Preparation"
   ]
  },
  {
   "cell_type": "code",
   "execution_count": 1,
   "id": "07d2d388",
   "metadata": {},
   "outputs": [],
   "source": [
    "import pandas as pd\n",
    "import numpy as np\n",
    "import matplotlib.pyplot as plt\n",
    "import seaborn as sns\n",
    "\n",
    "from sklearn.preprocessing import StandardScaler\n",
    "from sklearn.cluster import KMeans\n",
    "from sklearn.decomposition import PCA\n",
    "from sklearn.metrics import davies_bouldin_score, silhouette_score\n",
    "\n",
    "sns.set(style=\"whitegrid\")\n",
    "plt.rcParams[\"figure.figsize\"] = (10, 6)"
   ]
  },
  {
   "cell_type": "code",
   "execution_count": 2,
   "id": "bd7e588a",
   "metadata": {},
   "outputs": [],
   "source": [
    "customers_df = pd.read_csv('Customers.csv')\n",
    "products_df = pd.read_csv('Products.csv')\n",
    "transactions_df = pd.read_csv('Transactions.csv')"
   ]
  },
  {
   "cell_type": "code",
   "execution_count": 3,
   "id": "2624d7cd",
   "metadata": {},
   "outputs": [
    {
     "name": "stdout",
     "output_type": "stream",
     "text": [
      "CUSTOMERS:\n",
      "  CustomerID        CustomerName         Region  SignupDate\n",
      "0      C0001    Lawrence Carroll  South America  2022-07-10\n",
      "1      C0002      Elizabeth Lutz           Asia  2022-02-13\n",
      "2      C0003      Michael Rivera  South America  2024-03-07\n",
      "3      C0004  Kathleen Rodriguez  South America  2022-10-09\n",
      "4      C0005         Laura Weber           Asia  2022-08-15 \n",
      "\n",
      "PRODUCTS:\n",
      "  ProductID              ProductName     Category   Price\n",
      "0      P001     ActiveWear Biography        Books  169.30\n",
      "1      P002    ActiveWear Smartwatch  Electronics  346.30\n",
      "2      P003  ComfortLiving Biography        Books   44.12\n",
      "3      P004            BookWorld Rug   Home Decor   95.69\n",
      "4      P005          TechPro T-Shirt     Clothing  429.31 \n",
      "\n",
      "TRANSACTIONS:\n",
      "  TransactionID CustomerID ProductID      TransactionDate  Quantity  \\\n",
      "0        T00001      C0199      P067  2024-08-25 12:38:23         1   \n",
      "1        T00112      C0146      P067  2024-05-27 22:23:54         1   \n",
      "2        T00166      C0127      P067  2024-04-25 07:38:55         1   \n",
      "3        T00272      C0087      P067  2024-03-26 22:55:37         2   \n",
      "4        T00363      C0070      P067  2024-03-21 15:10:10         3   \n",
      "\n",
      "   TotalValue   Price  \n",
      "0      300.68  300.68  \n",
      "1      300.68  300.68  \n",
      "2      300.68  300.68  \n",
      "3      601.36  300.68  \n",
      "4      902.04  300.68   \n",
      "\n"
     ]
    }
   ],
   "source": [
    "print(\"CUSTOMERS:\")\n",
    "print(customers_df.head(), \"\\n\")\n",
    "print(\"PRODUCTS:\")\n",
    "print(products_df.head(), \"\\n\")\n",
    "print(\"TRANSACTIONS:\")\n",
    "print(transactions_df.head(), \"\\n\")"
   ]
  },
  {
   "cell_type": "code",
   "execution_count": 4,
   "id": "d4d77b5a",
   "metadata": {},
   "outputs": [
    {
     "name": "stdout",
     "output_type": "stream",
     "text": [
      "Shape of Customers: (200, 4)\n",
      "Shape of Products : (100, 4)\n",
      "Shape of Transactions: (1000, 7)\n"
     ]
    }
   ],
   "source": [
    "print(\"Shape of Customers:\", customers_df.shape)\n",
    "print(\"Shape of Products :\", products_df.shape)\n",
    "print(\"Shape of Transactions:\", transactions_df.shape)"
   ]
  },
  {
   "cell_type": "code",
   "execution_count": 5,
   "id": "7a43586e",
   "metadata": {},
   "outputs": [
    {
     "name": "stdout",
     "output_type": "stream",
     "text": [
      "\n",
      "Missing Values in Customers:\n",
      " CustomerID      0\n",
      "CustomerName    0\n",
      "Region          0\n",
      "SignupDate      0\n",
      "dtype: int64\n",
      "\n",
      "Missing Values in Products:\n",
      " ProductID      0\n",
      "ProductName    0\n",
      "Category       0\n",
      "Price          0\n",
      "dtype: int64\n",
      "\n",
      "Missing Values in Transactions:\n",
      " TransactionID      0\n",
      "CustomerID         0\n",
      "ProductID          0\n",
      "TransactionDate    0\n",
      "Quantity           0\n",
      "TotalValue         0\n",
      "Price              0\n",
      "dtype: int64\n"
     ]
    }
   ],
   "source": [
    "print(\"\\nMissing Values in Customers:\\n\", customers_df.isnull().sum())\n",
    "print(\"\\nMissing Values in Products:\\n\", products_df.isnull().sum())\n",
    "print(\"\\nMissing Values in Transactions:\\n\", transactions_df.isnull().sum())"
   ]
  },
  {
   "cell_type": "code",
   "execution_count": 6,
   "id": "4180ab17",
   "metadata": {},
   "outputs": [],
   "source": [
    "customers_df['SignupDate'] = pd.to_datetime(customers_df['SignupDate'], errors='coerce')\n",
    "transactions_df['TransactionDate'] = pd.to_datetime(transactions_df['TransactionDate'], errors='coerce')"
   ]
  },
  {
   "cell_type": "code",
   "execution_count": 7,
   "id": "1ebddda7",
   "metadata": {},
   "outputs": [
    {
     "name": "stdout",
     "output_type": "stream",
     "text": [
      "\n",
      "Duplicate Rows in Customers: 0\n",
      "Duplicate Rows in Products: 0\n",
      "Duplicate Rows in Transactions: 0\n"
     ]
    }
   ],
   "source": [
    "print(\"\\nDuplicate Rows in Customers:\", customers_df.duplicated().sum())\n",
    "print(\"Duplicate Rows in Products:\", products_df.duplicated().sum())\n",
    "print(\"Duplicate Rows in Transactions:\", transactions_df.duplicated().sum())"
   ]
  },
  {
   "cell_type": "code",
   "execution_count": 8,
   "id": "67d47a4a",
   "metadata": {},
   "outputs": [
    {
     "name": "stdout",
     "output_type": "stream",
     "text": [
      "\n",
      "Invalid CustomerIDs in Transactions (not in Customers): set()\n"
     ]
    }
   ],
   "source": [
    "invalid_cust_ids = set(transactions_df['CustomerID']) - set(customers_df['CustomerID'])\n",
    "print(f\"\\nInvalid CustomerIDs in Transactions (not in Customers): {invalid_cust_ids}\")"
   ]
  },
  {
   "cell_type": "code",
   "execution_count": 9,
   "id": "cb3506cf",
   "metadata": {},
   "outputs": [
    {
     "name": "stdout",
     "output_type": "stream",
     "text": [
      "Invalid ProductIDs in Transactions (not in Products): set()\n"
     ]
    }
   ],
   "source": [
    "invalid_prod_ids = set(transactions_df['ProductID']) - set(products_df['ProductID'])\n",
    "print(f\"Invalid ProductIDs in Transactions (not in Products): {invalid_prod_ids}\")"
   ]
  },
  {
   "cell_type": "code",
   "execution_count": 10,
   "id": "776b6d95",
   "metadata": {},
   "outputs": [],
   "source": [
    "trans_cust_df = pd.merge(\n",
    "    transactions_df, \n",
    "    customers_df[['CustomerID', 'Region']], \n",
    "    on='CustomerID', \n",
    "    how='left'\n",
    ")"
   ]
  },
  {
   "cell_type": "code",
   "execution_count": 11,
   "id": "1e5aab5d",
   "metadata": {},
   "outputs": [
    {
     "data": {
      "text/html": [
       "<div>\n",
       "<style scoped>\n",
       "    .dataframe tbody tr th:only-of-type {\n",
       "        vertical-align: middle;\n",
       "    }\n",
       "\n",
       "    .dataframe tbody tr th {\n",
       "        vertical-align: top;\n",
       "    }\n",
       "\n",
       "    .dataframe thead th {\n",
       "        text-align: right;\n",
       "    }\n",
       "</style>\n",
       "<table border=\"1\" class=\"dataframe\">\n",
       "  <thead>\n",
       "    <tr style=\"text-align: right;\">\n",
       "      <th></th>\n",
       "      <th>TransactionID</th>\n",
       "      <th>CustomerID</th>\n",
       "      <th>ProductID</th>\n",
       "      <th>TransactionDate</th>\n",
       "      <th>Quantity</th>\n",
       "      <th>TotalValue</th>\n",
       "      <th>Price</th>\n",
       "      <th>Region</th>\n",
       "    </tr>\n",
       "  </thead>\n",
       "  <tbody>\n",
       "    <tr>\n",
       "      <th>0</th>\n",
       "      <td>T00001</td>\n",
       "      <td>C0199</td>\n",
       "      <td>P067</td>\n",
       "      <td>2024-08-25 12:38:23</td>\n",
       "      <td>1</td>\n",
       "      <td>300.68</td>\n",
       "      <td>300.68</td>\n",
       "      <td>Europe</td>\n",
       "    </tr>\n",
       "    <tr>\n",
       "      <th>1</th>\n",
       "      <td>T00112</td>\n",
       "      <td>C0146</td>\n",
       "      <td>P067</td>\n",
       "      <td>2024-05-27 22:23:54</td>\n",
       "      <td>1</td>\n",
       "      <td>300.68</td>\n",
       "      <td>300.68</td>\n",
       "      <td>Asia</td>\n",
       "    </tr>\n",
       "    <tr>\n",
       "      <th>2</th>\n",
       "      <td>T00166</td>\n",
       "      <td>C0127</td>\n",
       "      <td>P067</td>\n",
       "      <td>2024-04-25 07:38:55</td>\n",
       "      <td>1</td>\n",
       "      <td>300.68</td>\n",
       "      <td>300.68</td>\n",
       "      <td>Europe</td>\n",
       "    </tr>\n",
       "    <tr>\n",
       "      <th>3</th>\n",
       "      <td>T00272</td>\n",
       "      <td>C0087</td>\n",
       "      <td>P067</td>\n",
       "      <td>2024-03-26 22:55:37</td>\n",
       "      <td>2</td>\n",
       "      <td>601.36</td>\n",
       "      <td>300.68</td>\n",
       "      <td>South America</td>\n",
       "    </tr>\n",
       "    <tr>\n",
       "      <th>4</th>\n",
       "      <td>T00363</td>\n",
       "      <td>C0070</td>\n",
       "      <td>P067</td>\n",
       "      <td>2024-03-21 15:10:10</td>\n",
       "      <td>3</td>\n",
       "      <td>902.04</td>\n",
       "      <td>300.68</td>\n",
       "      <td>Europe</td>\n",
       "    </tr>\n",
       "    <tr>\n",
       "      <th>...</th>\n",
       "      <td>...</td>\n",
       "      <td>...</td>\n",
       "      <td>...</td>\n",
       "      <td>...</td>\n",
       "      <td>...</td>\n",
       "      <td>...</td>\n",
       "      <td>...</td>\n",
       "      <td>...</td>\n",
       "    </tr>\n",
       "    <tr>\n",
       "      <th>995</th>\n",
       "      <td>T00496</td>\n",
       "      <td>C0118</td>\n",
       "      <td>P037</td>\n",
       "      <td>2024-10-24 08:30:27</td>\n",
       "      <td>1</td>\n",
       "      <td>459.86</td>\n",
       "      <td>459.86</td>\n",
       "      <td>South America</td>\n",
       "    </tr>\n",
       "    <tr>\n",
       "      <th>996</th>\n",
       "      <td>T00759</td>\n",
       "      <td>C0059</td>\n",
       "      <td>P037</td>\n",
       "      <td>2024-06-04 02:15:24</td>\n",
       "      <td>3</td>\n",
       "      <td>1379.58</td>\n",
       "      <td>459.86</td>\n",
       "      <td>North America</td>\n",
       "    </tr>\n",
       "    <tr>\n",
       "      <th>997</th>\n",
       "      <td>T00922</td>\n",
       "      <td>C0018</td>\n",
       "      <td>P037</td>\n",
       "      <td>2024-04-05 13:05:32</td>\n",
       "      <td>4</td>\n",
       "      <td>1839.44</td>\n",
       "      <td>459.86</td>\n",
       "      <td>North America</td>\n",
       "    </tr>\n",
       "    <tr>\n",
       "      <th>998</th>\n",
       "      <td>T00959</td>\n",
       "      <td>C0115</td>\n",
       "      <td>P037</td>\n",
       "      <td>2024-09-29 10:16:02</td>\n",
       "      <td>2</td>\n",
       "      <td>919.72</td>\n",
       "      <td>459.86</td>\n",
       "      <td>Asia</td>\n",
       "    </tr>\n",
       "    <tr>\n",
       "      <th>999</th>\n",
       "      <td>T00992</td>\n",
       "      <td>C0024</td>\n",
       "      <td>P037</td>\n",
       "      <td>2024-04-21 10:52:24</td>\n",
       "      <td>1</td>\n",
       "      <td>459.86</td>\n",
       "      <td>459.86</td>\n",
       "      <td>North America</td>\n",
       "    </tr>\n",
       "  </tbody>\n",
       "</table>\n",
       "<p>1000 rows × 8 columns</p>\n",
       "</div>"
      ],
      "text/plain": [
       "    TransactionID CustomerID ProductID     TransactionDate  Quantity  \\\n",
       "0          T00001      C0199      P067 2024-08-25 12:38:23         1   \n",
       "1          T00112      C0146      P067 2024-05-27 22:23:54         1   \n",
       "2          T00166      C0127      P067 2024-04-25 07:38:55         1   \n",
       "3          T00272      C0087      P067 2024-03-26 22:55:37         2   \n",
       "4          T00363      C0070      P067 2024-03-21 15:10:10         3   \n",
       "..            ...        ...       ...                 ...       ...   \n",
       "995        T00496      C0118      P037 2024-10-24 08:30:27         1   \n",
       "996        T00759      C0059      P037 2024-06-04 02:15:24         3   \n",
       "997        T00922      C0018      P037 2024-04-05 13:05:32         4   \n",
       "998        T00959      C0115      P037 2024-09-29 10:16:02         2   \n",
       "999        T00992      C0024      P037 2024-04-21 10:52:24         1   \n",
       "\n",
       "     TotalValue   Price         Region  \n",
       "0        300.68  300.68         Europe  \n",
       "1        300.68  300.68           Asia  \n",
       "2        300.68  300.68         Europe  \n",
       "3        601.36  300.68  South America  \n",
       "4        902.04  300.68         Europe  \n",
       "..          ...     ...            ...  \n",
       "995      459.86  459.86  South America  \n",
       "996     1379.58  459.86  North America  \n",
       "997     1839.44  459.86  North America  \n",
       "998      919.72  459.86           Asia  \n",
       "999      459.86  459.86  North America  \n",
       "\n",
       "[1000 rows x 8 columns]"
      ]
     },
     "execution_count": 11,
     "metadata": {},
     "output_type": "execute_result"
    }
   ],
   "source": [
    "trans_cust_df"
   ]
  },
  {
   "cell_type": "code",
   "execution_count": 12,
   "id": "b393a28e",
   "metadata": {},
   "outputs": [],
   "source": [
    "full_df = pd.merge(\n",
    "    trans_cust_df,\n",
    "    products_df[['ProductID', 'Category']],\n",
    "    on='ProductID',\n",
    "    how='left'\n",
    ")"
   ]
  },
  {
   "cell_type": "code",
   "execution_count": 13,
   "id": "1d3a1243",
   "metadata": {},
   "outputs": [
    {
     "data": {
      "text/html": [
       "<div>\n",
       "<style scoped>\n",
       "    .dataframe tbody tr th:only-of-type {\n",
       "        vertical-align: middle;\n",
       "    }\n",
       "\n",
       "    .dataframe tbody tr th {\n",
       "        vertical-align: top;\n",
       "    }\n",
       "\n",
       "    .dataframe thead th {\n",
       "        text-align: right;\n",
       "    }\n",
       "</style>\n",
       "<table border=\"1\" class=\"dataframe\">\n",
       "  <thead>\n",
       "    <tr style=\"text-align: right;\">\n",
       "      <th></th>\n",
       "      <th>TransactionID</th>\n",
       "      <th>CustomerID</th>\n",
       "      <th>ProductID</th>\n",
       "      <th>TransactionDate</th>\n",
       "      <th>Quantity</th>\n",
       "      <th>TotalValue</th>\n",
       "      <th>Price</th>\n",
       "      <th>Region</th>\n",
       "      <th>Category</th>\n",
       "    </tr>\n",
       "  </thead>\n",
       "  <tbody>\n",
       "    <tr>\n",
       "      <th>0</th>\n",
       "      <td>T00001</td>\n",
       "      <td>C0199</td>\n",
       "      <td>P067</td>\n",
       "      <td>2024-08-25 12:38:23</td>\n",
       "      <td>1</td>\n",
       "      <td>300.68</td>\n",
       "      <td>300.68</td>\n",
       "      <td>Europe</td>\n",
       "      <td>Electronics</td>\n",
       "    </tr>\n",
       "    <tr>\n",
       "      <th>1</th>\n",
       "      <td>T00112</td>\n",
       "      <td>C0146</td>\n",
       "      <td>P067</td>\n",
       "      <td>2024-05-27 22:23:54</td>\n",
       "      <td>1</td>\n",
       "      <td>300.68</td>\n",
       "      <td>300.68</td>\n",
       "      <td>Asia</td>\n",
       "      <td>Electronics</td>\n",
       "    </tr>\n",
       "    <tr>\n",
       "      <th>2</th>\n",
       "      <td>T00166</td>\n",
       "      <td>C0127</td>\n",
       "      <td>P067</td>\n",
       "      <td>2024-04-25 07:38:55</td>\n",
       "      <td>1</td>\n",
       "      <td>300.68</td>\n",
       "      <td>300.68</td>\n",
       "      <td>Europe</td>\n",
       "      <td>Electronics</td>\n",
       "    </tr>\n",
       "    <tr>\n",
       "      <th>3</th>\n",
       "      <td>T00272</td>\n",
       "      <td>C0087</td>\n",
       "      <td>P067</td>\n",
       "      <td>2024-03-26 22:55:37</td>\n",
       "      <td>2</td>\n",
       "      <td>601.36</td>\n",
       "      <td>300.68</td>\n",
       "      <td>South America</td>\n",
       "      <td>Electronics</td>\n",
       "    </tr>\n",
       "    <tr>\n",
       "      <th>4</th>\n",
       "      <td>T00363</td>\n",
       "      <td>C0070</td>\n",
       "      <td>P067</td>\n",
       "      <td>2024-03-21 15:10:10</td>\n",
       "      <td>3</td>\n",
       "      <td>902.04</td>\n",
       "      <td>300.68</td>\n",
       "      <td>Europe</td>\n",
       "      <td>Electronics</td>\n",
       "    </tr>\n",
       "    <tr>\n",
       "      <th>...</th>\n",
       "      <td>...</td>\n",
       "      <td>...</td>\n",
       "      <td>...</td>\n",
       "      <td>...</td>\n",
       "      <td>...</td>\n",
       "      <td>...</td>\n",
       "      <td>...</td>\n",
       "      <td>...</td>\n",
       "      <td>...</td>\n",
       "    </tr>\n",
       "    <tr>\n",
       "      <th>995</th>\n",
       "      <td>T00496</td>\n",
       "      <td>C0118</td>\n",
       "      <td>P037</td>\n",
       "      <td>2024-10-24 08:30:27</td>\n",
       "      <td>1</td>\n",
       "      <td>459.86</td>\n",
       "      <td>459.86</td>\n",
       "      <td>South America</td>\n",
       "      <td>Electronics</td>\n",
       "    </tr>\n",
       "    <tr>\n",
       "      <th>996</th>\n",
       "      <td>T00759</td>\n",
       "      <td>C0059</td>\n",
       "      <td>P037</td>\n",
       "      <td>2024-06-04 02:15:24</td>\n",
       "      <td>3</td>\n",
       "      <td>1379.58</td>\n",
       "      <td>459.86</td>\n",
       "      <td>North America</td>\n",
       "      <td>Electronics</td>\n",
       "    </tr>\n",
       "    <tr>\n",
       "      <th>997</th>\n",
       "      <td>T00922</td>\n",
       "      <td>C0018</td>\n",
       "      <td>P037</td>\n",
       "      <td>2024-04-05 13:05:32</td>\n",
       "      <td>4</td>\n",
       "      <td>1839.44</td>\n",
       "      <td>459.86</td>\n",
       "      <td>North America</td>\n",
       "      <td>Electronics</td>\n",
       "    </tr>\n",
       "    <tr>\n",
       "      <th>998</th>\n",
       "      <td>T00959</td>\n",
       "      <td>C0115</td>\n",
       "      <td>P037</td>\n",
       "      <td>2024-09-29 10:16:02</td>\n",
       "      <td>2</td>\n",
       "      <td>919.72</td>\n",
       "      <td>459.86</td>\n",
       "      <td>Asia</td>\n",
       "      <td>Electronics</td>\n",
       "    </tr>\n",
       "    <tr>\n",
       "      <th>999</th>\n",
       "      <td>T00992</td>\n",
       "      <td>C0024</td>\n",
       "      <td>P037</td>\n",
       "      <td>2024-04-21 10:52:24</td>\n",
       "      <td>1</td>\n",
       "      <td>459.86</td>\n",
       "      <td>459.86</td>\n",
       "      <td>North America</td>\n",
       "      <td>Electronics</td>\n",
       "    </tr>\n",
       "  </tbody>\n",
       "</table>\n",
       "<p>1000 rows × 9 columns</p>\n",
       "</div>"
      ],
      "text/plain": [
       "    TransactionID CustomerID ProductID     TransactionDate  Quantity  \\\n",
       "0          T00001      C0199      P067 2024-08-25 12:38:23         1   \n",
       "1          T00112      C0146      P067 2024-05-27 22:23:54         1   \n",
       "2          T00166      C0127      P067 2024-04-25 07:38:55         1   \n",
       "3          T00272      C0087      P067 2024-03-26 22:55:37         2   \n",
       "4          T00363      C0070      P067 2024-03-21 15:10:10         3   \n",
       "..            ...        ...       ...                 ...       ...   \n",
       "995        T00496      C0118      P037 2024-10-24 08:30:27         1   \n",
       "996        T00759      C0059      P037 2024-06-04 02:15:24         3   \n",
       "997        T00922      C0018      P037 2024-04-05 13:05:32         4   \n",
       "998        T00959      C0115      P037 2024-09-29 10:16:02         2   \n",
       "999        T00992      C0024      P037 2024-04-21 10:52:24         1   \n",
       "\n",
       "     TotalValue   Price         Region     Category  \n",
       "0        300.68  300.68         Europe  Electronics  \n",
       "1        300.68  300.68           Asia  Electronics  \n",
       "2        300.68  300.68         Europe  Electronics  \n",
       "3        601.36  300.68  South America  Electronics  \n",
       "4        902.04  300.68         Europe  Electronics  \n",
       "..          ...     ...            ...          ...  \n",
       "995      459.86  459.86  South America  Electronics  \n",
       "996     1379.58  459.86  North America  Electronics  \n",
       "997     1839.44  459.86  North America  Electronics  \n",
       "998      919.72  459.86           Asia  Electronics  \n",
       "999      459.86  459.86  North America  Electronics  \n",
       "\n",
       "[1000 rows x 9 columns]"
      ]
     },
     "execution_count": 13,
     "metadata": {},
     "output_type": "execute_result"
    }
   ],
   "source": [
    "full_df"
   ]
  },
  {
   "cell_type": "code",
   "execution_count": 14,
   "id": "b62b4c70",
   "metadata": {},
   "outputs": [
    {
     "name": "stdout",
     "output_type": "stream",
     "text": [
      "\n",
      "Merged DataFrame (full_df) preview:\n",
      "  TransactionID CustomerID ProductID     TransactionDate  Quantity  \\\n",
      "0        T00001      C0199      P067 2024-08-25 12:38:23         1   \n",
      "1        T00112      C0146      P067 2024-05-27 22:23:54         1   \n",
      "2        T00166      C0127      P067 2024-04-25 07:38:55         1   \n",
      "3        T00272      C0087      P067 2024-03-26 22:55:37         2   \n",
      "4        T00363      C0070      P067 2024-03-21 15:10:10         3   \n",
      "\n",
      "   TotalValue   Price         Region     Category  \n",
      "0      300.68  300.68         Europe  Electronics  \n",
      "1      300.68  300.68           Asia  Electronics  \n",
      "2      300.68  300.68         Europe  Electronics  \n",
      "3      601.36  300.68  South America  Electronics  \n",
      "4      902.04  300.68         Europe  Electronics  \n"
     ]
    }
   ],
   "source": [
    "print(\"\\nMerged DataFrame (full_df) preview:\")\n",
    "print(full_df.head())"
   ]
  },
  {
   "cell_type": "code",
   "execution_count": 15,
   "id": "811bf45e",
   "metadata": {},
   "outputs": [],
   "source": [
    "cust_agg = transactions_df.groupby('CustomerID').agg({\n",
    "    'TotalValue': 'sum',     \n",
    "    'Quantity': 'sum',         \n",
    "    'TransactionID': 'count'   \n",
    "}).rename(columns={\n",
    "    'TotalValue': 'total_spend',\n",
    "    'Quantity': 'total_qty',\n",
    "    'TransactionID': 'trans_count'\n",
    "}).reset_index()"
   ]
  },
  {
   "cell_type": "code",
   "execution_count": 16,
   "id": "637c6c76",
   "metadata": {},
   "outputs": [],
   "source": [
    "cust_agg['avg_order_value'] = cust_agg['total_spend'] / cust_agg['trans_count']"
   ]
  },
  {
   "cell_type": "markdown",
   "id": "ea44ae3e",
   "metadata": {},
   "source": [
    "#Incorporate_Category_Spend_Distribution"
   ]
  },
  {
   "cell_type": "code",
   "execution_count": 17,
   "id": "7b67f8dc",
   "metadata": {},
   "outputs": [],
   "source": [
    "tx_merged = pd.merge(\n",
    "    transactions_df,\n",
    "    products_df[['ProductID', 'Category']],\n",
    "    on='ProductID', \n",
    "    how='left'\n",
    ")"
   ]
  },
  {
   "cell_type": "code",
   "execution_count": 18,
   "id": "14099461",
   "metadata": {},
   "outputs": [],
   "source": [
    "cat_spend = tx_merged.groupby(['CustomerID', 'Category'])['TotalValue'].sum().unstack(fill_value=0)"
   ]
  },
  {
   "cell_type": "code",
   "execution_count": 19,
   "id": "8e33615d",
   "metadata": {},
   "outputs": [],
   "source": [
    "cat_spend_fraction = cat_spend.div(cat_spend.sum(axis=1), axis=0).fillna(0)"
   ]
  },
  {
   "cell_type": "code",
   "execution_count": 20,
   "id": "de212bdb",
   "metadata": {},
   "outputs": [],
   "source": [
    "customer_profile = customers_df[['CustomerID', 'Region']]"
   ]
  },
  {
   "cell_type": "code",
   "execution_count": 21,
   "id": "34fef1dd",
   "metadata": {},
   "outputs": [],
   "source": [
    "df_features = pd.merge(customer_profile, cust_agg, on='CustomerID', how='left')\n",
    "df_features = pd.merge(df_features, cat_spend_fraction, on='CustomerID', how='left')"
   ]
  },
  {
   "cell_type": "code",
   "execution_count": 22,
   "id": "9e44be39",
   "metadata": {},
   "outputs": [],
   "source": [
    "df_features.fillna(0, inplace=True)"
   ]
  },
  {
   "cell_type": "markdown",
   "id": "922526d9",
   "metadata": {},
   "source": [
    "#One-hot_encode_Region"
   ]
  },
  {
   "cell_type": "code",
   "execution_count": 23,
   "id": "406a869b",
   "metadata": {},
   "outputs": [],
   "source": [
    "df_features = pd.get_dummies(df_features, columns=['Region'], prefix='Region')"
   ]
  },
  {
   "cell_type": "markdown",
   "id": "bf9ab8e9",
   "metadata": {},
   "source": [
    "# Build_Feature_Matrix"
   ]
  },
  {
   "cell_type": "code",
   "execution_count": 24,
   "id": "95f0906b",
   "metadata": {},
   "outputs": [],
   "source": [
    "customer_ids = df_features['CustomerID']"
   ]
  },
  {
   "cell_type": "code",
   "execution_count": 25,
   "id": "e653e427",
   "metadata": {},
   "outputs": [],
   "source": [
    "feature_cols = [col for col in df_features.columns if col != 'CustomerID']\n",
    "X = df_features[feature_cols].values"
   ]
  },
  {
   "cell_type": "code",
   "execution_count": 26,
   "id": "f40ea406",
   "metadata": {},
   "outputs": [],
   "source": [
    "scaler = StandardScaler()\n",
    "X_scaled = scaler.fit_transform(X)"
   ]
  },
  {
   "cell_type": "markdown",
   "id": "156a6349",
   "metadata": {},
   "source": [
    "# CLUSTERING_(K-Means)_AND_EVALUATION"
   ]
  },
  {
   "cell_type": "code",
   "execution_count": 27,
   "id": "d613a651",
   "metadata": {},
   "outputs": [],
   "source": [
    "results = []\n",
    "k_range = range(2, 11)"
   ]
  },
  {
   "cell_type": "code",
   "execution_count": 28,
   "id": "87eb9241",
   "metadata": {},
   "outputs": [
    {
     "name": "stderr",
     "output_type": "stream",
     "text": [
      "python(20083) MallocStackLogging: can't turn off malloc stack logging because it was not enabled.\n"
     ]
    }
   ],
   "source": [
    "for k in k_range:\n",
    "    kmeans = KMeans(n_clusters=k, random_state=42)\n",
    "    labels = kmeans.fit_predict(X_scaled)\n",
    "    \n",
    "\n",
    "    db_index = davies_bouldin_score(X_scaled, labels)\n",
    "    \n",
    "    sil_score = silhouette_score(X_scaled, labels)\n",
    "    \n",
    "    results.append({\n",
    "        'k': k,\n",
    "        'db_index': db_index,\n",
    "        'silhouette': sil_score\n",
    "    })"
   ]
  },
  {
   "cell_type": "code",
   "execution_count": 29,
   "id": "b5db8fe7",
   "metadata": {},
   "outputs": [
    {
     "name": "stdout",
     "output_type": "stream",
     "text": [
      "Clusters: 2, DB Index: 2.157640385476406, Silhouette Score: 0.13494746436561567\n",
      "Clusters: 3, DB Index: 2.0792802431367186, Silhouette Score: 0.13344173257184033\n",
      "Clusters: 4, DB Index: 2.008314306460845, Silhouette Score: 0.1539420795099306\n",
      "Clusters: 5, DB Index: 1.786389002958216, Silhouette Score: 0.15023062432237774\n",
      "Clusters: 6, DB Index: 1.6541513648786799, Silhouette Score: 0.1854482307154129\n",
      "Clusters: 7, DB Index: 1.3775031088209124, Silhouette Score: 0.2297281007328459\n",
      "Clusters: 8, DB Index: 1.3998366424431066, Silhouette Score: 0.224863295761483\n",
      "Clusters: 9, DB Index: 1.3523528674658505, Silhouette Score: 0.23757082194741927\n",
      "Clusters: 10, DB Index: 1.4343669466319253, Silhouette Score: 0.22534803563850717\n"
     ]
    }
   ],
   "source": [
    "from sklearn.cluster import KMeans\n",
    "from sklearn.metrics import davies_bouldin_score, silhouette_score\n",
    "import numpy as np\n",
    "\n",
    "for k in k_range:\n",
    "    kmeans = KMeans(n_clusters=k, random_state=42)\n",
    "    labels = kmeans.fit_predict(X_scaled)\n",
    "    \n",
    "    db_index = davies_bouldin_score(X_scaled, labels)\n",
    "    sil_score = silhouette_score(X_scaled, labels)\n",
    "    \n",
    "    print(f'Clusters: {k}, DB Index: {db_index}, Silhouette Score: {sil_score}')\n"
   ]
  },
  {
   "cell_type": "code",
   "execution_count": 30,
   "id": "3e918ed8",
   "metadata": {},
   "outputs": [
    {
     "name": "stdout",
     "output_type": "stream",
     "text": [
      "=== Clustering Metrics (KMeans) ===\n",
      "    k  db_index  silhouette\n",
      "0   2  2.157640    0.134947\n",
      "1   3  2.079280    0.133442\n",
      "2   4  2.008314    0.153942\n",
      "3   5  1.786389    0.150231\n",
      "4   6  1.654151    0.185448\n",
      "5   7  1.377503    0.229728\n",
      "6   8  1.399837    0.224863\n",
      "7   9  1.352353    0.237571\n",
      "8  10  1.434367    0.225348\n"
     ]
    }
   ],
   "source": [
    "results_df = pd.DataFrame(results)\n",
    "print(\"=== Clustering Metrics (KMeans) ===\")\n",
    "print(results_df)"
   ]
  },
  {
   "cell_type": "code",
   "execution_count": 33,
   "id": "2dd2ec36",
   "metadata": {},
   "outputs": [
    {
     "name": "stdout",
     "output_type": "stream",
     "text": [
      "\n",
      "Best number of clusters based on DB Index: k=9 (DB Index=1.3524)\n"
     ]
    }
   ],
   "source": [
    "best_row = results_df.loc[results_df['db_index'].idxmin()]\n",
    "best_k = best_row['k']\n",
    "print(f\"\\nBest number of clusters based on DB Index: k={best_k:.0f} (DB Index={best_row['db_index']:.4f})\")"
   ]
  },
  {
   "cell_type": "markdown",
   "id": "d6788148",
   "metadata": {},
   "source": [
    "# Final_Clustering_with_Best_K"
   ]
  },
  {
   "cell_type": "code",
   "execution_count": 34,
   "id": "c4cd611d",
   "metadata": {},
   "outputs": [],
   "source": [
    "final_kmeans = KMeans(n_clusters=int(best_k), random_state=42)\n",
    "final_labels = final_kmeans.fit_predict(X_scaled)"
   ]
  },
  {
   "cell_type": "code",
   "execution_count": 35,
   "id": "aed184f9",
   "metadata": {},
   "outputs": [],
   "source": [
    "df_features['Cluster'] = final_labels"
   ]
  },
  {
   "cell_type": "code",
   "execution_count": 36,
   "id": "d47e34ad",
   "metadata": {},
   "outputs": [],
   "source": [
    "final_db_index = davies_bouldin_score(X_scaled, final_labels)\n",
    "final_silhouette = silhouette_score(X_scaled, final_labels)"
   ]
  },
  {
   "cell_type": "code",
   "execution_count": 37,
   "id": "5c21b2b2",
   "metadata": {},
   "outputs": [
    {
     "name": "stdout",
     "output_type": "stream",
     "text": [
      "\n",
      "=== FINAL CLUSTERING RESULTS (k=9) ===\n",
      "Davies-Bouldin Index: 1.3524\n",
      "Silhouette Score:     0.2376\n"
     ]
    }
   ],
   "source": [
    "print(f\"\\n=== FINAL CLUSTERING RESULTS (k={best_k:.0f}) ===\")\n",
    "print(f\"Davies-Bouldin Index: {final_db_index:.4f}\")\n",
    "print(f\"Silhouette Score:     {final_silhouette:.4f}\")"
   ]
  },
  {
   "cell_type": "markdown",
   "id": "f53cd2b1",
   "metadata": {},
   "source": [
    "#Cluster_sizes"
   ]
  },
  {
   "cell_type": "code",
   "execution_count": 38,
   "id": "1d82cbaa",
   "metadata": {},
   "outputs": [
    {
     "name": "stdout",
     "output_type": "stream",
     "text": [
      "\n",
      "Cluster Sizes:\n",
      "Cluster\n",
      "0     9\n",
      "1    30\n",
      "2    19\n",
      "3    34\n",
      "4    21\n",
      "5    40\n",
      "6    12\n",
      "7    24\n",
      "8    11\n",
      "Name: count, dtype: int64\n"
     ]
    }
   ],
   "source": [
    "cluster_counts = df_features['Cluster'].value_counts().sort_index()\n",
    "print(\"\\nCluster Sizes:\")\n",
    "print(cluster_counts)"
   ]
  },
  {
   "cell_type": "markdown",
   "id": "009098fe",
   "metadata": {},
   "source": [
    "# VISUALIZATION_OF_CLUSTERS_(2D PROJECTION USING PCA)"
   ]
  },
  {
   "cell_type": "code",
   "execution_count": 39,
   "id": "ea87b016",
   "metadata": {},
   "outputs": [],
   "source": [
    "pca = PCA(n_components=2, random_state=42)\n",
    "pca_2d = pca.fit_transform(X_scaled)\n",
    "\n",
    "df_plot = pd.DataFrame({\n",
    "    'PC1': pca_2d[:, 0],\n",
    "    'PC2': pca_2d[:, 1],\n",
    "    'Cluster': final_labels\n",
    "})"
   ]
  },
  {
   "cell_type": "code",
   "execution_count": 40,
   "id": "a1ef035e",
   "metadata": {},
   "outputs": [
    {
     "data": {
      "image/png": "[encoded data removed]",
      "text/plain": [
       "<Figure size 1000x600 with 1 Axes>"
      ]
     },
     "metadata": {},
     "output_type": "display_data"
    }
   ],
   "source": [
    "plt.figure(figsize=(10, 6))\n",
    "sns.scatterplot(data=df_plot, x='PC1', y='PC2', hue='Cluster', palette='Set2')\n",
    "plt.title(f\"Customer Clusters (k={int(best_k)}) via PCA\")\n",
    "plt.legend(title='Cluster')\n",
    "plt.show()"
   ]
  },
  {
   "cell_type": "code",
   "execution_count": 41,
   "id": "373f7608",
   "metadata": {},
   "outputs": [
    {
     "name": "stdout",
     "output_type": "stream",
     "text": [
      "\n",
      "===== CLUSTERING REPORT =====\n",
      "Number of Clusters: 9\n",
      "Davies-Bouldin Index: 1.3524\n",
      "Silhouette Score: 0.2376\n",
      "Cluster Counts:\n",
      "Cluster\n",
      "0     9\n",
      "1    30\n",
      "2    19\n",
      "3    34\n",
      "4    21\n",
      "5    40\n",
      "6    12\n",
      "7    24\n",
      "8    11\n",
      "\n",
      "The above metrics and visualization can guide business interpretation.\n",
      "\n"
     ]
    }
   ],
   "source": [
    "print(\"\\n===== CLUSTERING REPORT =====\")\n",
    "print(f\"Number of Clusters: {int(best_k)}\")\n",
    "print(f\"Davies-Bouldin Index: {final_db_index:.4f}\")\n",
    "print(f\"Silhouette Score: {final_silhouette:.4f}\")\n",
    "print(f\"Cluster Counts:\\n{cluster_counts.to_string()}\")\n",
    "print(\"\\nThe above metrics and visualization can guide business interpretation.\\n\")"
   ]
  }
 ],
 "metadata": {
  "kernelspec": {
   "display_name": "Python 3 (ipykernel)",
   "language": "python",
   "name": "python3"
  },
  "language_info": {
   "codemirror_mode": {
    "name": "ipython",
    "version": 3
   },
   "file_extension": ".py",
   "mimetype": "text/x-python",
   "name": "python",
   "nbconvert_exporter": "python",
   "pygments_lexer": "ipython3",
   "version": "3.12.2"
  }
 },
 "nbformat": 4,
 "nbformat_minor": 5
}
