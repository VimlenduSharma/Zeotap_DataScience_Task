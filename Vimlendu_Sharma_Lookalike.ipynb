{
 "cells": [
  {
   "cell_type": "markdown",
   "id": "ec7ae961",
   "metadata": {},
   "source": [
    "# Imports_and_Preparation"
   ]
  },
  {
   "cell_type": "code",
   "execution_count": 1,
   "id": "112772c7",
   "metadata": {},
   "outputs": [
    {
     "name": "stderr",
     "output_type": "stream",
     "text": [
      "python(18611) MallocStackLogging: can't turn off malloc stack logging because it was not enabled.\n"
     ]
    }
   ],
   "source": [
    "import pandas as pd\n",
    "import numpy as np\n",
    "import seaborn as sns\n",
    "from sklearn.preprocessing import StandardScaler\n",
    "from sklearn.metrics.pairwise import cosine_similarity\n",
    "import ast"
   ]
  },
  {
   "cell_type": "code",
   "execution_count": 2,
   "id": "3a7711b4",
   "metadata": {},
   "outputs": [],
   "source": [
    "customers_df = pd.read_csv('Customers.csv')\n",
    "products_df = pd.read_csv('Products.csv')\n",
    "transactions_df = pd.read_csv('Transactions.csv')"
   ]
  },
  {
   "cell_type": "code",
   "execution_count": 3,
   "id": "b1b71161",
   "metadata": {},
   "outputs": [
    {
     "name": "stdout",
     "output_type": "stream",
     "text": [
      "CUSTOMERS:\n",
      "  CustomerID        CustomerName         Region  SignupDate\n",
      "0      C0001    Lawrence Carroll  South America  2022-07-10\n",
      "1      C0002      Elizabeth Lutz           Asia  2022-02-13\n",
      "2      C0003      Michael Rivera  South America  2024-03-07\n",
      "3      C0004  Kathleen Rodriguez  South America  2022-10-09\n",
      "4      C0005         Laura Weber           Asia  2022-08-15 \n",
      "\n",
      "PRODUCTS:\n",
      "  ProductID              ProductName     Category   Price\n",
      "0      P001     ActiveWear Biography        Books  169.30\n",
      "1      P002    ActiveWear Smartwatch  Electronics  346.30\n",
      "2      P003  ComfortLiving Biography        Books   44.12\n",
      "3      P004            BookWorld Rug   Home Decor   95.69\n",
      "4      P005          TechPro T-Shirt     Clothing  429.31 \n",
      "\n",
      "TRANSACTIONS:\n",
      "  TransactionID CustomerID ProductID      TransactionDate  Quantity  \\\n",
      "0        T00001      C0199      P067  2024-08-25 12:38:23         1   \n",
      "1        T00112      C0146      P067  2024-05-27 22:23:54         1   \n",
      "2        T00166      C0127      P067  2024-04-25 07:38:55         1   \n",
      "3        T00272      C0087      P067  2024-03-26 22:55:37         2   \n",
      "4        T00363      C0070      P067  2024-03-21 15:10:10         3   \n",
      "\n",
      "   TotalValue   Price  \n",
      "0      300.68  300.68  \n",
      "1      300.68  300.68  \n",
      "2      300.68  300.68  \n",
      "3      601.36  300.68  \n",
      "4      902.04  300.68   \n",
      "\n"
     ]
    }
   ],
   "source": [
    "print(\"CUSTOMERS:\")\n",
    "print(customers_df.head(), \"\\n\")\n",
    "print(\"PRODUCTS:\")\n",
    "print(products_df.head(), \"\\n\")\n",
    "print(\"TRANSACTIONS:\")\n",
    "print(transactions_df.head(), \"\\n\")"
   ]
  },
  {
   "cell_type": "code",
   "execution_count": 4,
   "id": "c38a49ee",
   "metadata": {},
   "outputs": [
    {
     "name": "stdout",
     "output_type": "stream",
     "text": [
      "Shape of Customers: (200, 4)\n",
      "Shape of Products : (100, 4)\n",
      "Shape of Transactions: (1000, 7)\n"
     ]
    }
   ],
   "source": [
    "print(\"Shape of Customers:\", customers_df.shape)\n",
    "print(\"Shape of Products :\", products_df.shape)\n",
    "print(\"Shape of Transactions:\", transactions_df.shape)"
   ]
  },
  {
   "cell_type": "code",
   "execution_count": 5,
   "id": "e5a4d078",
   "metadata": {},
   "outputs": [
    {
     "name": "stdout",
     "output_type": "stream",
     "text": [
      "\n",
      "Missing Values in Customers:\n",
      " CustomerID      0\n",
      "CustomerName    0\n",
      "Region          0\n",
      "SignupDate      0\n",
      "dtype: int64\n",
      "\n",
      "Missing Values in Products:\n",
      " ProductID      0\n",
      "ProductName    0\n",
      "Category       0\n",
      "Price          0\n",
      "dtype: int64\n",
      "\n",
      "Missing Values in Transactions:\n",
      " TransactionID      0\n",
      "CustomerID         0\n",
      "ProductID          0\n",
      "TransactionDate    0\n",
      "Quantity           0\n",
      "TotalValue         0\n",
      "Price              0\n",
      "dtype: int64\n"
     ]
    }
   ],
   "source": [
    "print(\"\\nMissing Values in Customers:\\n\", customers_df.isnull().sum())\n",
    "print(\"\\nMissing Values in Products:\\n\", products_df.isnull().sum())\n",
    "print(\"\\nMissing Values in Transactions:\\n\", transactions_df.isnull().sum())"
   ]
  },
  {
   "cell_type": "code",
   "execution_count": 6,
   "id": "f91ed4a3",
   "metadata": {},
   "outputs": [],
   "source": [
    "customers_df['SignupDate'] = pd.to_datetime(customers_df['SignupDate'], errors='coerce')\n",
    "transactions_df['TransactionDate'] = pd.to_datetime(transactions_df['TransactionDate'], errors='coerce')"
   ]
  },
  {
   "cell_type": "code",
   "execution_count": 7,
   "id": "78701af0",
   "metadata": {},
   "outputs": [
    {
     "name": "stdout",
     "output_type": "stream",
     "text": [
      "\n",
      "Duplicate Rows in Customers: 0\n",
      "Duplicate Rows in Products: 0\n",
      "Duplicate Rows in Transactions: 0\n"
     ]
    }
   ],
   "source": [
    "print(\"\\nDuplicate Rows in Customers:\", customers_df.duplicated().sum())\n",
    "print(\"Duplicate Rows in Products:\", products_df.duplicated().sum())\n",
    "print(\"Duplicate Rows in Transactions:\", transactions_df.duplicated().sum())"
   ]
  },
  {
   "cell_type": "code",
   "execution_count": 8,
   "id": "5101de49",
   "metadata": {},
   "outputs": [
    {
     "name": "stdout",
     "output_type": "stream",
     "text": [
      "\n",
      "Invalid CustomerIDs in Transactions (not in Customers): set()\n"
     ]
    }
   ],
   "source": [
    "invalid_cust_ids = set(transactions_df['CustomerID']) - set(customers_df['CustomerID'])\n",
    "print(f\"\\nInvalid CustomerIDs in Transactions (not in Customers): {invalid_cust_ids}\")"
   ]
  },
  {
   "cell_type": "code",
   "execution_count": 9,
   "id": "800619ac",
   "metadata": {},
   "outputs": [
    {
     "name": "stdout",
     "output_type": "stream",
     "text": [
      "Invalid ProductIDs in Transactions (not in Products): set()\n"
     ]
    }
   ],
   "source": [
    "invalid_prod_ids = set(transactions_df['ProductID']) - set(products_df['ProductID'])\n",
    "print(f\"Invalid ProductIDs in Transactions (not in Products): {invalid_prod_ids}\")"
   ]
  },
  {
   "cell_type": "code",
   "execution_count": 10,
   "id": "19fe31e8",
   "metadata": {},
   "outputs": [],
   "source": [
    "trans_cust_df = pd.merge(\n",
    "    transactions_df, \n",
    "    customers_df[['CustomerID', 'Region']], \n",
    "    on='CustomerID', \n",
    "    how='left'\n",
    ")"
   ]
  },
  {
   "cell_type": "code",
   "execution_count": 11,
   "id": "dd0a3ec7",
   "metadata": {},
   "outputs": [
    {
     "data": {
      "text/html": [
       "<div>\n",
       "<style scoped>\n",
       "    .dataframe tbody tr th:only-of-type {\n",
       "        vertical-align: middle;\n",
       "    }\n",
       "\n",
       "    .dataframe tbody tr th {\n",
       "        vertical-align: top;\n",
       "    }\n",
       "\n",
       "    .dataframe thead th {\n",
       "        text-align: right;\n",
       "    }\n",
       "</style>\n",
       "<table border=\"1\" class=\"dataframe\">\n",
       "  <thead>\n",
       "    <tr style=\"text-align: right;\">\n",
       "      <th></th>\n",
       "      <th>TransactionID</th>\n",
       "      <th>CustomerID</th>\n",
       "      <th>ProductID</th>\n",
       "      <th>TransactionDate</th>\n",
       "      <th>Quantity</th>\n",
       "      <th>TotalValue</th>\n",
       "      <th>Price</th>\n",
       "      <th>Region</th>\n",
       "    </tr>\n",
       "  </thead>\n",
       "  <tbody>\n",
       "    <tr>\n",
       "      <th>0</th>\n",
       "      <td>T00001</td>\n",
       "      <td>C0199</td>\n",
       "      <td>P067</td>\n",
       "      <td>2024-08-25 12:38:23</td>\n",
       "      <td>1</td>\n",
       "      <td>300.68</td>\n",
       "      <td>300.68</td>\n",
       "      <td>Europe</td>\n",
       "    </tr>\n",
       "    <tr>\n",
       "      <th>1</th>\n",
       "      <td>T00112</td>\n",
       "      <td>C0146</td>\n",
       "      <td>P067</td>\n",
       "      <td>2024-05-27 22:23:54</td>\n",
       "      <td>1</td>\n",
       "      <td>300.68</td>\n",
       "      <td>300.68</td>\n",
       "      <td>Asia</td>\n",
       "    </tr>\n",
       "    <tr>\n",
       "      <th>2</th>\n",
       "      <td>T00166</td>\n",
       "      <td>C0127</td>\n",
       "      <td>P067</td>\n",
       "      <td>2024-04-25 07:38:55</td>\n",
       "      <td>1</td>\n",
       "      <td>300.68</td>\n",
       "      <td>300.68</td>\n",
       "      <td>Europe</td>\n",
       "    </tr>\n",
       "    <tr>\n",
       "      <th>3</th>\n",
       "      <td>T00272</td>\n",
       "      <td>C0087</td>\n",
       "      <td>P067</td>\n",
       "      <td>2024-03-26 22:55:37</td>\n",
       "      <td>2</td>\n",
       "      <td>601.36</td>\n",
       "      <td>300.68</td>\n",
       "      <td>South America</td>\n",
       "    </tr>\n",
       "    <tr>\n",
       "      <th>4</th>\n",
       "      <td>T00363</td>\n",
       "      <td>C0070</td>\n",
       "      <td>P067</td>\n",
       "      <td>2024-03-21 15:10:10</td>\n",
       "      <td>3</td>\n",
       "      <td>902.04</td>\n",
       "      <td>300.68</td>\n",
       "      <td>Europe</td>\n",
       "    </tr>\n",
       "    <tr>\n",
       "      <th>...</th>\n",
       "      <td>...</td>\n",
       "      <td>...</td>\n",
       "      <td>...</td>\n",
       "      <td>...</td>\n",
       "      <td>...</td>\n",
       "      <td>...</td>\n",
       "      <td>...</td>\n",
       "      <td>...</td>\n",
       "    </tr>\n",
       "    <tr>\n",
       "      <th>995</th>\n",
       "      <td>T00496</td>\n",
       "      <td>C0118</td>\n",
       "      <td>P037</td>\n",
       "      <td>2024-10-24 08:30:27</td>\n",
       "      <td>1</td>\n",
       "      <td>459.86</td>\n",
       "      <td>459.86</td>\n",
       "      <td>South America</td>\n",
       "    </tr>\n",
       "    <tr>\n",
       "      <th>996</th>\n",
       "      <td>T00759</td>\n",
       "      <td>C0059</td>\n",
       "      <td>P037</td>\n",
       "      <td>2024-06-04 02:15:24</td>\n",
       "      <td>3</td>\n",
       "      <td>1379.58</td>\n",
       "      <td>459.86</td>\n",
       "      <td>North America</td>\n",
       "    </tr>\n",
       "    <tr>\n",
       "      <th>997</th>\n",
       "      <td>T00922</td>\n",
       "      <td>C0018</td>\n",
       "      <td>P037</td>\n",
       "      <td>2024-04-05 13:05:32</td>\n",
       "      <td>4</td>\n",
       "      <td>1839.44</td>\n",
       "      <td>459.86</td>\n",
       "      <td>North America</td>\n",
       "    </tr>\n",
       "    <tr>\n",
       "      <th>998</th>\n",
       "      <td>T00959</td>\n",
       "      <td>C0115</td>\n",
       "      <td>P037</td>\n",
       "      <td>2024-09-29 10:16:02</td>\n",
       "      <td>2</td>\n",
       "      <td>919.72</td>\n",
       "      <td>459.86</td>\n",
       "      <td>Asia</td>\n",
       "    </tr>\n",
       "    <tr>\n",
       "      <th>999</th>\n",
       "      <td>T00992</td>\n",
       "      <td>C0024</td>\n",
       "      <td>P037</td>\n",
       "      <td>2024-04-21 10:52:24</td>\n",
       "      <td>1</td>\n",
       "      <td>459.86</td>\n",
       "      <td>459.86</td>\n",
       "      <td>North America</td>\n",
       "    </tr>\n",
       "  </tbody>\n",
       "</table>\n",
       "<p>1000 rows × 8 columns</p>\n",
       "</div>"
      ],
      "text/plain": [
       "    TransactionID CustomerID ProductID     TransactionDate  Quantity  \\\n",
       "0          T00001      C0199      P067 2024-08-25 12:38:23         1   \n",
       "1          T00112      C0146      P067 2024-05-27 22:23:54         1   \n",
       "2          T00166      C0127      P067 2024-04-25 07:38:55         1   \n",
       "3          T00272      C0087      P067 2024-03-26 22:55:37         2   \n",
       "4          T00363      C0070      P067 2024-03-21 15:10:10         3   \n",
       "..            ...        ...       ...                 ...       ...   \n",
       "995        T00496      C0118      P037 2024-10-24 08:30:27         1   \n",
       "996        T00759      C0059      P037 2024-06-04 02:15:24         3   \n",
       "997        T00922      C0018      P037 2024-04-05 13:05:32         4   \n",
       "998        T00959      C0115      P037 2024-09-29 10:16:02         2   \n",
       "999        T00992      C0024      P037 2024-04-21 10:52:24         1   \n",
       "\n",
       "     TotalValue   Price         Region  \n",
       "0        300.68  300.68         Europe  \n",
       "1        300.68  300.68           Asia  \n",
       "2        300.68  300.68         Europe  \n",
       "3        601.36  300.68  South America  \n",
       "4        902.04  300.68         Europe  \n",
       "..          ...     ...            ...  \n",
       "995      459.86  459.86  South America  \n",
       "996     1379.58  459.86  North America  \n",
       "997     1839.44  459.86  North America  \n",
       "998      919.72  459.86           Asia  \n",
       "999      459.86  459.86  North America  \n",
       "\n",
       "[1000 rows x 8 columns]"
      ]
     },
     "execution_count": 11,
     "metadata": {},
     "output_type": "execute_result"
    }
   ],
   "source": [
    "trans_cust_df"
   ]
  },
  {
   "cell_type": "code",
   "execution_count": 12,
   "id": "1dac6135",
   "metadata": {},
   "outputs": [],
   "source": [
    "full_df = pd.merge(\n",
    "    trans_cust_df,\n",
    "    products_df[['ProductID', 'Category']],\n",
    "    on='ProductID',\n",
    "    how='left'\n",
    ")"
   ]
  },
  {
   "cell_type": "code",
   "execution_count": 13,
   "id": "51f26ad8",
   "metadata": {},
   "outputs": [
    {
     "data": {
      "text/html": [
       "<div>\n",
       "<style scoped>\n",
       "    .dataframe tbody tr th:only-of-type {\n",
       "        vertical-align: middle;\n",
       "    }\n",
       "\n",
       "    .dataframe tbody tr th {\n",
       "        vertical-align: top;\n",
       "    }\n",
       "\n",
       "    .dataframe thead th {\n",
       "        text-align: right;\n",
       "    }\n",
       "</style>\n",
       "<table border=\"1\" class=\"dataframe\">\n",
       "  <thead>\n",
       "    <tr style=\"text-align: right;\">\n",
       "      <th></th>\n",
       "      <th>TransactionID</th>\n",
       "      <th>CustomerID</th>\n",
       "      <th>ProductID</th>\n",
       "      <th>TransactionDate</th>\n",
       "      <th>Quantity</th>\n",
       "      <th>TotalValue</th>\n",
       "      <th>Price</th>\n",
       "      <th>Region</th>\n",
       "      <th>Category</th>\n",
       "    </tr>\n",
       "  </thead>\n",
       "  <tbody>\n",
       "    <tr>\n",
       "      <th>0</th>\n",
       "      <td>T00001</td>\n",
       "      <td>C0199</td>\n",
       "      <td>P067</td>\n",
       "      <td>2024-08-25 12:38:23</td>\n",
       "      <td>1</td>\n",
       "      <td>300.68</td>\n",
       "      <td>300.68</td>\n",
       "      <td>Europe</td>\n",
       "      <td>Electronics</td>\n",
       "    </tr>\n",
       "    <tr>\n",
       "      <th>1</th>\n",
       "      <td>T00112</td>\n",
       "      <td>C0146</td>\n",
       "      <td>P067</td>\n",
       "      <td>2024-05-27 22:23:54</td>\n",
       "      <td>1</td>\n",
       "      <td>300.68</td>\n",
       "      <td>300.68</td>\n",
       "      <td>Asia</td>\n",
       "      <td>Electronics</td>\n",
       "    </tr>\n",
       "    <tr>\n",
       "      <th>2</th>\n",
       "      <td>T00166</td>\n",
       "      <td>C0127</td>\n",
       "      <td>P067</td>\n",
       "      <td>2024-04-25 07:38:55</td>\n",
       "      <td>1</td>\n",
       "      <td>300.68</td>\n",
       "      <td>300.68</td>\n",
       "      <td>Europe</td>\n",
       "      <td>Electronics</td>\n",
       "    </tr>\n",
       "    <tr>\n",
       "      <th>3</th>\n",
       "      <td>T00272</td>\n",
       "      <td>C0087</td>\n",
       "      <td>P067</td>\n",
       "      <td>2024-03-26 22:55:37</td>\n",
       "      <td>2</td>\n",
       "      <td>601.36</td>\n",
       "      <td>300.68</td>\n",
       "      <td>South America</td>\n",
       "      <td>Electronics</td>\n",
       "    </tr>\n",
       "    <tr>\n",
       "      <th>4</th>\n",
       "      <td>T00363</td>\n",
       "      <td>C0070</td>\n",
       "      <td>P067</td>\n",
       "      <td>2024-03-21 15:10:10</td>\n",
       "      <td>3</td>\n",
       "      <td>902.04</td>\n",
       "      <td>300.68</td>\n",
       "      <td>Europe</td>\n",
       "      <td>Electronics</td>\n",
       "    </tr>\n",
       "    <tr>\n",
       "      <th>...</th>\n",
       "      <td>...</td>\n",
       "      <td>...</td>\n",
       "      <td>...</td>\n",
       "      <td>...</td>\n",
       "      <td>...</td>\n",
       "      <td>...</td>\n",
       "      <td>...</td>\n",
       "      <td>...</td>\n",
       "      <td>...</td>\n",
       "    </tr>\n",
       "    <tr>\n",
       "      <th>995</th>\n",
       "      <td>T00496</td>\n",
       "      <td>C0118</td>\n",
       "      <td>P037</td>\n",
       "      <td>2024-10-24 08:30:27</td>\n",
       "      <td>1</td>\n",
       "      <td>459.86</td>\n",
       "      <td>459.86</td>\n",
       "      <td>South America</td>\n",
       "      <td>Electronics</td>\n",
       "    </tr>\n",
       "    <tr>\n",
       "      <th>996</th>\n",
       "      <td>T00759</td>\n",
       "      <td>C0059</td>\n",
       "      <td>P037</td>\n",
       "      <td>2024-06-04 02:15:24</td>\n",
       "      <td>3</td>\n",
       "      <td>1379.58</td>\n",
       "      <td>459.86</td>\n",
       "      <td>North America</td>\n",
       "      <td>Electronics</td>\n",
       "    </tr>\n",
       "    <tr>\n",
       "      <th>997</th>\n",
       "      <td>T00922</td>\n",
       "      <td>C0018</td>\n",
       "      <td>P037</td>\n",
       "      <td>2024-04-05 13:05:32</td>\n",
       "      <td>4</td>\n",
       "      <td>1839.44</td>\n",
       "      <td>459.86</td>\n",
       "      <td>North America</td>\n",
       "      <td>Electronics</td>\n",
       "    </tr>\n",
       "    <tr>\n",
       "      <th>998</th>\n",
       "      <td>T00959</td>\n",
       "      <td>C0115</td>\n",
       "      <td>P037</td>\n",
       "      <td>2024-09-29 10:16:02</td>\n",
       "      <td>2</td>\n",
       "      <td>919.72</td>\n",
       "      <td>459.86</td>\n",
       "      <td>Asia</td>\n",
       "      <td>Electronics</td>\n",
       "    </tr>\n",
       "    <tr>\n",
       "      <th>999</th>\n",
       "      <td>T00992</td>\n",
       "      <td>C0024</td>\n",
       "      <td>P037</td>\n",
       "      <td>2024-04-21 10:52:24</td>\n",
       "      <td>1</td>\n",
       "      <td>459.86</td>\n",
       "      <td>459.86</td>\n",
       "      <td>North America</td>\n",
       "      <td>Electronics</td>\n",
       "    </tr>\n",
       "  </tbody>\n",
       "</table>\n",
       "<p>1000 rows × 9 columns</p>\n",
       "</div>"
      ],
      "text/plain": [
       "    TransactionID CustomerID ProductID     TransactionDate  Quantity  \\\n",
       "0          T00001      C0199      P067 2024-08-25 12:38:23         1   \n",
       "1          T00112      C0146      P067 2024-05-27 22:23:54         1   \n",
       "2          T00166      C0127      P067 2024-04-25 07:38:55         1   \n",
       "3          T00272      C0087      P067 2024-03-26 22:55:37         2   \n",
       "4          T00363      C0070      P067 2024-03-21 15:10:10         3   \n",
       "..            ...        ...       ...                 ...       ...   \n",
       "995        T00496      C0118      P037 2024-10-24 08:30:27         1   \n",
       "996        T00759      C0059      P037 2024-06-04 02:15:24         3   \n",
       "997        T00922      C0018      P037 2024-04-05 13:05:32         4   \n",
       "998        T00959      C0115      P037 2024-09-29 10:16:02         2   \n",
       "999        T00992      C0024      P037 2024-04-21 10:52:24         1   \n",
       "\n",
       "     TotalValue   Price         Region     Category  \n",
       "0        300.68  300.68         Europe  Electronics  \n",
       "1        300.68  300.68           Asia  Electronics  \n",
       "2        300.68  300.68         Europe  Electronics  \n",
       "3        601.36  300.68  South America  Electronics  \n",
       "4        902.04  300.68         Europe  Electronics  \n",
       "..          ...     ...            ...          ...  \n",
       "995      459.86  459.86  South America  Electronics  \n",
       "996     1379.58  459.86  North America  Electronics  \n",
       "997     1839.44  459.86  North America  Electronics  \n",
       "998      919.72  459.86           Asia  Electronics  \n",
       "999      459.86  459.86  North America  Electronics  \n",
       "\n",
       "[1000 rows x 9 columns]"
      ]
     },
     "execution_count": 13,
     "metadata": {},
     "output_type": "execute_result"
    }
   ],
   "source": [
    "full_df"
   ]
  },
  {
   "cell_type": "code",
   "execution_count": 14,
   "id": "7f66e472",
   "metadata": {},
   "outputs": [
    {
     "name": "stdout",
     "output_type": "stream",
     "text": [
      "\n",
      "Merged DataFrame (full_df) preview:\n",
      "  TransactionID CustomerID ProductID     TransactionDate  Quantity  \\\n",
      "0        T00001      C0199      P067 2024-08-25 12:38:23         1   \n",
      "1        T00112      C0146      P067 2024-05-27 22:23:54         1   \n",
      "2        T00166      C0127      P067 2024-04-25 07:38:55         1   \n",
      "3        T00272      C0087      P067 2024-03-26 22:55:37         2   \n",
      "4        T00363      C0070      P067 2024-03-21 15:10:10         3   \n",
      "\n",
      "   TotalValue   Price         Region     Category  \n",
      "0      300.68  300.68         Europe  Electronics  \n",
      "1      300.68  300.68           Asia  Electronics  \n",
      "2      300.68  300.68         Europe  Electronics  \n",
      "3      601.36  300.68  South America  Electronics  \n",
      "4      902.04  300.68         Europe  Electronics  \n"
     ]
    }
   ],
   "source": [
    "print(\"\\nMerged DataFrame (full_df) preview:\")\n",
    "print(full_df.head())"
   ]
  },
  {
   "cell_type": "markdown",
   "id": "e197c23e",
   "metadata": {},
   "source": [
    "# FEATURE_ENGINEERING_FOR_LOOKALIKE_MODEL"
   ]
  },
  {
   "cell_type": "code",
   "execution_count": 15,
   "id": "ccd673c3",
   "metadata": {},
   "outputs": [],
   "source": [
    "customer_agg = transactions_df.groupby('CustomerID').agg({\n",
    "    'TotalValue': 'sum',\n",
    "    'Quantity': 'sum',\n",
    "    'TransactionID': 'count'\n",
    "}).rename(columns={\n",
    "    'TotalValue': 'total_spend',\n",
    "    'Quantity': 'total_qty',\n",
    "    'TransactionID': 'trans_count'\n",
    "}).reset_index()"
   ]
  },
  {
   "cell_type": "code",
   "execution_count": 16,
   "id": "56c64f10",
   "metadata": {},
   "outputs": [],
   "source": [
    "customer_agg['avg_order_value'] = customer_agg['total_spend'] / customer_agg['trans_count']"
   ]
  },
  {
   "cell_type": "markdown",
   "id": "9eb474e5",
   "metadata": {},
   "source": [
    "#Category_Spend_Distribution"
   ]
  },
  {
   "cell_type": "code",
   "execution_count": 17,
   "id": "1fc52b28",
   "metadata": {},
   "outputs": [],
   "source": [
    "tx_with_cat = pd.merge(\n",
    "    transactions_df, \n",
    "    products_df[['ProductID', 'Category']], \n",
    "    on='ProductID', \n",
    "    how='left'\n",
    ")"
   ]
  },
  {
   "cell_type": "code",
   "execution_count": 18,
   "id": "75c69e0f",
   "metadata": {},
   "outputs": [],
   "source": [
    "cat_spend = tx_with_cat.groupby(['CustomerID', 'Category'])['TotalValue'].sum().unstack(fill_value=0)"
   ]
  },
  {
   "cell_type": "code",
   "execution_count": 19,
   "id": "e9c39ce0",
   "metadata": {},
   "outputs": [],
   "source": [
    "cat_spend_fraction = cat_spend.div(cat_spend.sum(axis=1), axis=0).fillna(0)"
   ]
  },
  {
   "cell_type": "code",
   "execution_count": 20,
   "id": "93050308",
   "metadata": {},
   "outputs": [],
   "source": [
    "cust_profile = customers_df[['CustomerID', 'Region']].copy()"
   ]
  },
  {
   "cell_type": "markdown",
   "id": "b6804adc",
   "metadata": {},
   "source": [
    "#Merge_all_Aggregated_data"
   ]
  },
  {
   "cell_type": "code",
   "execution_count": 21,
   "id": "a057a06b",
   "metadata": {},
   "outputs": [],
   "source": [
    "cust_features = pd.merge(cust_profile, customer_agg, on='CustomerID', how='left')\n",
    "cust_features = pd.merge(cust_features, cat_spend_fraction, on='CustomerID', how='left')"
   ]
  },
  {
   "cell_type": "code",
   "execution_count": 22,
   "id": "3044faff",
   "metadata": {},
   "outputs": [],
   "source": [
    "cust_features.fillna(0, inplace=True)"
   ]
  },
  {
   "cell_type": "markdown",
   "id": "f95b0881",
   "metadata": {},
   "source": [
    "#Encode_Categorical_Columns"
   ]
  },
  {
   "cell_type": "code",
   "execution_count": 24,
   "id": "b058170d",
   "metadata": {},
   "outputs": [],
   "source": [
    "cust_features = pd.get_dummies(cust_features, columns=['Region'], prefix='Region')"
   ]
  },
  {
   "cell_type": "markdown",
   "id": "e828b7f4",
   "metadata": {},
   "source": [
    "# BUILD_FEATURE_MATRIX_AND_COMPUTE_SIMILARITIES"
   ]
  },
  {
   "cell_type": "code",
   "execution_count": 25,
   "id": "0bc54234",
   "metadata": {},
   "outputs": [],
   "source": [
    "feature_cols = [col for col in cust_features.columns if col != 'CustomerID']"
   ]
  },
  {
   "cell_type": "code",
   "execution_count": 26,
   "id": "43a4d61d",
   "metadata": {},
   "outputs": [],
   "source": [
    "X = cust_features[feature_cols].values"
   ]
  },
  {
   "cell_type": "code",
   "execution_count": 27,
   "id": "51817a27",
   "metadata": {},
   "outputs": [],
   "source": [
    "scaler = StandardScaler()\n",
    "X_scaled = scaler.fit_transform(X)"
   ]
  },
  {
   "cell_type": "markdown",
   "id": "4efbadb8",
   "metadata": {},
   "source": [
    "#Compute_pairwise_cosine_similarity_among_all_customers"
   ]
  },
  {
   "cell_type": "code",
   "execution_count": 28,
   "id": "ac5d275a",
   "metadata": {},
   "outputs": [],
   "source": [
    "similarity_matrix = cosine_similarity(X_scaled)"
   ]
  },
  {
   "cell_type": "code",
   "execution_count": 29,
   "id": "a50224f4",
   "metadata": {},
   "outputs": [],
   "source": [
    "index_to_customer = dict(enumerate(cust_features['CustomerID'].values))\n",
    "customer_to_index = {v: k for k, v in index_to_customer.items()}"
   ]
  },
  {
   "cell_type": "markdown",
   "id": "cd2067b3",
   "metadata": {},
   "source": [
    "# FIND_TOP_3_LOOKALIKES_FOR_EACH_CUSTOMER"
   ]
  },
  {
   "cell_type": "code",
   "execution_count": 30,
   "id": "f6ecdbab",
   "metadata": {},
   "outputs": [],
   "source": [
    "def get_top_k_similar(customer_id, k=3):\n",
    "    \"\"\"\n",
    "    Given a customer_id, returns the top k most similar customer IDs and their similarity scores.\n",
    "    Excludes the customer themselves.\n",
    "    \"\"\"\n",
    "    cust_idx = customer_to_index[customer_id]\n",
    "    \n",
    "    sims = similarity_matrix[cust_idx]\n",
    "    \n",
    "    similar_indices = np.argsort(sims)[::-1]  \n",
    "    \n",
    "    similar_indices = similar_indices[similar_indices != cust_idx]\n",
    "    \n",
    "    top_k_indices = similar_indices[:k]\n",
    "    \n",
    "    result = []\n",
    "    for idx in top_k_indices:\n",
    "        sim_score = sims[idx]\n",
    "        result.append((index_to_customer[idx], round(float(sim_score), 4)))\n",
    "        \n",
    "    return result"
   ]
  },
  {
   "cell_type": "code",
   "execution_count": 31,
   "id": "915854e6",
   "metadata": {},
   "outputs": [],
   "source": [
    "lookalike_dict = {}"
   ]
  },
  {
   "cell_type": "code",
   "execution_count": 32,
   "id": "2606c35c",
   "metadata": {},
   "outputs": [],
   "source": [
    "desired_customers = [f\"C{str(i).zfill(4)}\" for i in range(1, 21)]"
   ]
  },
  {
   "cell_type": "code",
   "execution_count": 33,
   "id": "b69c2683",
   "metadata": {},
   "outputs": [],
   "source": [
    "for cust_id in desired_customers:\n",
    "    if cust_id in customer_to_index: \n",
    "        top_3 = get_top_k_similar(cust_id, k=3)\n",
    "        lookalike_dict[cust_id] = top_3\n",
    "    else:\n",
    "        lookalike_dict[cust_id] = []"
   ]
  },
  {
   "cell_type": "markdown",
   "id": "e92f217b",
   "metadata": {},
   "source": [
    "# SAVE_RESULTS_TO \"Lookalike.csv\""
   ]
  },
  {
   "cell_type": "code",
   "execution_count": 34,
   "id": "2870a3b2",
   "metadata": {},
   "outputs": [],
   "source": [
    "data_for_csv = []\n",
    "for cust_id, lookalikes in lookalike_dict.items():\n",
    "    data_for_csv.append({\n",
    "        'CustomerID': cust_id,\n",
    "        'Lookalikes': str(lookalikes)\n",
    "    })"
   ]
  },
  {
   "cell_type": "code",
   "execution_count": 35,
   "id": "aebfe724",
   "metadata": {},
   "outputs": [
    {
     "name": "stdout",
     "output_type": "stream",
     "text": [
      "Lookalike.csv has been created with top 3 lookalikes for each of the first 20 customers.\n",
      "\n",
      "=== SAMPLE OUTPUT ===\n",
      "  CustomerID                                         Lookalikes\n",
      "0      C0001  [('C0120', 0.9383), ('C0192', 0.9031), ('C0181...\n",
      "1      C0002  [('C0159', 0.9376), ('C0178', 0.9308), ('C0106...\n",
      "2      C0003  [('C0152', 0.8922), ('C0031', 0.8809), ('C0085...\n",
      "3      C0004  [('C0113', 0.9197), ('C0104', 0.8905), ('C0165...\n",
      "4      C0005  [('C0007', 0.9643), ('C0140', 0.8651), ('C0186...\n"
     ]
    }
   ],
   "source": [
    "lookalike_df = pd.DataFrame(data_for_csv, columns=['CustomerID', 'Lookalikes'])\n",
    "lookalike_df.to_csv(\"Lookalike.csv\", index=False)\n",
    "\n",
    "print(\"Lookalike.csv has been created with top 3 lookalikes for each of the first 20 customers.\")\n",
    "print(\"\\n=== SAMPLE OUTPUT ===\")\n",
    "print(lookalike_df.head(5))"
   ]
  }
 ],
 "metadata": {
  "kernelspec": {
   "display_name": "Python 3 (ipykernel)",
   "language": "python",
   "name": "python3"
  },
  "language_info": {
   "codemirror_mode": {
    "name": "ipython",
    "version": 3
   },
   "file_extension": ".py",
   "mimetype": "text/x-python",
   "name": "python",
   "nbconvert_exporter": "python",
   "pygments_lexer": "ipython3",
   "version": "3.12.2"
  }
 },
 "nbformat": 4,
 "nbformat_minor": 5
}
